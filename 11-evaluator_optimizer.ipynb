{
 "cells": [
  {
   "cell_type": "markdown",
   "metadata": {},
   "source": [
    "#### Setting up LLM"
   ]
  },
  {
   "cell_type": "code",
   "execution_count": 1,
   "metadata": {},
   "outputs": [],
   "source": [
    "import os\n",
    "from dotenv import load_dotenv\n",
    "load_dotenv()\n",
    "from langchain_groq import ChatGroq\n",
    "os.environ[\"GROQ_API_KEY\"] = os.getenv(\"GROQ_API_KEY\")\n",
    "llm =  ChatGroq(model=\"llama-3.3-70b-versatile\")"
   ]
  },
  {
   "cell_type": "markdown",
   "metadata": {},
   "source": [
    "#### Example 1: Generating a funnier joke"
   ]
  },
  {
   "cell_type": "code",
   "execution_count": 2,
   "metadata": {},
   "outputs": [],
   "source": [
    "from typing import Annotated, List\n",
    "import operator\n",
    "from typing_extensions import Literal\n",
    "from pydantic import BaseModel,Field\n",
    "from langchain_core.messages import HumanMessage,SystemMessage\n",
    "from typing_extensions import TypedDict"
   ]
  },
  {
   "cell_type": "markdown",
   "metadata": {},
   "source": [
    "#### Creating State Schema"
   ]
  },
  {
   "cell_type": "code",
   "execution_count": 3,
   "metadata": {},
   "outputs": [],
   "source": [
    "# Graph state\n",
    "class State(TypedDict):\n",
    "    joke: str\n",
    "    topic: str\n",
    "    feedback: str\n",
    "    funny_or_not: str\n",
    "\n",
    "# Schema for structured output to use in evaluation\n",
    "class Feedback(BaseModel):\n",
    "    grade: Literal[\"funny\", \"not funny\"] = Field(\n",
    "        description=\"Decide if the joke is funny or not.\",\n",
    "    )\n",
    "    feedback: str = Field(\n",
    "        description=\"If the joke is not funny, provide feedback on how to improve it.\",\n",
    "    )\n",
    "\n",
    "# Augment the LLM with schema for structured output\n",
    "evaluator = llm.with_structured_output(Feedback)"
   ]
  },
  {
   "cell_type": "markdown",
   "metadata": {},
   "source": [
    "#### Node Functions"
   ]
  },
  {
   "cell_type": "code",
   "execution_count": 4,
   "metadata": {},
   "outputs": [],
   "source": [
    "def llm_call_generator(state: State):\n",
    "    \"\"\"LLM generates a joke\"\"\"\n",
    "    if state.get(\"feedback\"):\n",
    "        msg = llm.invoke(\n",
    "            f\"Write a joke about {state['topic']} but take into account the feedback: {state['feedback']}\"\n",
    "        )\n",
    "    else:\n",
    "        msg = llm.invoke(f\"Write a joke about {state['topic']}\")\n",
    "    return {\"joke\": msg.content}\n",
    "\n",
    "def llm_call_evaluator(state: State):\n",
    "    \"\"\"LLM evaluates the joke\"\"\"\n",
    "    grade = evaluator.invoke(f\"Grade the joke {state['joke']}\")\n",
    "    return {\"funny_or_not\": grade.grade, \"feedback\": grade.feedback}\n",
    "\n",
    "# Conditional edge function to route back to joke generator or end based upon feedback from the evaluator\n",
    "def route_joke(state: State):\n",
    "    \"\"\"Route back to joke generator or end based upon feedback from the evaluator\"\"\"\n",
    "    if state[\"funny_or_not\"] == \"funny\":\n",
    "        return \"Accepted\"\n",
    "    elif state[\"funny_or_not\"] == \"not funny\":\n",
    "        return \"Rejected + Feedback\""
   ]
  },
  {
   "cell_type": "markdown",
   "metadata": {},
   "source": [
    "#### StateGraph"
   ]
  },
  {
   "cell_type": "code",
   "execution_count": 5,
   "metadata": {},
   "outputs": [
    {
     "data": {
      "image/png": "[encoded data removed]",
      "text/plain": [
       "<IPython.core.display.Image object>"
      ]
     },
     "metadata": {},
     "output_type": "display_data"
    }
   ],
   "source": [
    "from langgraph.graph import StateGraph, START, END\n",
    "from IPython.display import Image, display\n",
    "\n",
    "optimizer_builder = StateGraph(State)\n",
    "\n",
    "optimizer_builder.add_node(\"llm_call_generator\", llm_call_generator)\n",
    "optimizer_builder.add_node(\"llm_call_evaluator\", llm_call_evaluator)\n",
    "\n",
    "optimizer_builder.add_edge(START, \"llm_call_generator\")\n",
    "optimizer_builder.add_edge(\"llm_call_generator\", \"llm_call_evaluator\")\n",
    "optimizer_builder.add_conditional_edges(\n",
    "    \"llm_call_evaluator\",\n",
    "    route_joke,\n",
    "    {  # Name returned by route_joke : Name of next node to visit\n",
    "        \"Accepted\": END,\n",
    "        \"Rejected + Feedback\": \"llm_call_generator\",\n",
    "    },\n",
    ")\n",
    "\n",
    "optimizer_workflow = optimizer_builder.compile()\n",
    "display(Image(optimizer_workflow.get_graph().draw_mermaid_png()))"
   ]
  },
  {
   "cell_type": "code",
   "execution_count": 6,
   "metadata": {},
   "outputs": [
    {
     "name": "stdout",
     "output_type": "stream",
     "text": [
      "{'joke': \"Why did the orange cat join a band?\\n\\nBecause it wanted to be the purr-cussionist and have a mew-sical career that was the cat's meow, and it was a paws-itive hit with its fur-iendly fans, and it was an orange you glad it didn't turn out to be a cat-astrophe.\", 'topic': 'Orange cat', 'feedback': 'The joke is funny because it uses multiple cat-related puns in a creative way, making it a paws-itive and amusing play on words.', 'funny_or_not': 'funny'}\n"
     ]
    }
   ],
   "source": [
    "state = optimizer_workflow.invoke({\"topic\": \"Orange cat\"})\n",
    "print(state)"
   ]
  },
  {
   "cell_type": "markdown",
   "metadata": {},
   "source": [
    "#### Example 2: Generating a code based on its simplicity"
   ]
  },
  {
   "cell_type": "code",
   "execution_count": 11,
   "metadata": {},
   "outputs": [],
   "source": [
    "# Graph state\n",
    "class State(TypedDict):\n",
    "    code: str\n",
    "    topic: str\n",
    "    feedback: str\n",
    "    simplicity: str\n",
    "\n",
    "# Schema for structured output to use in evaluation\n",
    "class Feedback(BaseModel):\n",
    "    grade: Literal[\"simple\", \"complicated\"] = Field(\n",
    "        description=\"Decide if the code is simple or complicated to understand.\",\n",
    "    )\n",
    "    feedback: str = Field(\n",
    "        description=\"If the code is complicated, provide feedback on how to improve it.\",\n",
    "    )\n",
    "\n",
    "# Augment the LLM with schema for structured output\n",
    "evaluator = llm.with_structured_output(Feedback)"
   ]
  },
  {
   "cell_type": "code",
   "execution_count": 12,
   "metadata": {},
   "outputs": [],
   "source": [
    "def code_generator(state: State):\n",
    "    \"\"\"LLM generates a code\"\"\"\n",
    "    if state.get(\"feedback\"):\n",
    "        msg = llm.invoke(\n",
    "            f\"Provide a Python code for {state['topic']} but take into account the feedback: {state['feedback']}. Use markdown formatting.\"\n",
    "        )\n",
    "    else:\n",
    "        msg = llm.invoke(f\"Provide a  python code for {state['topic']}\")\n",
    "    return {\"code\": msg.content}\n",
    "\n",
    "def code_evaluator(state: State):\n",
    "    \"\"\"LLM evaluates the code\"\"\"\n",
    "    grade = evaluator.invoke(f\"Grade the code {state['code']}\")\n",
    "    return {\"simplicity\": grade.grade, \"feedback\": grade.feedback}\n",
    "\n",
    "# Conditional edge function to route back to joke generator or end based upon feedback from the evaluator\n",
    "def route_code(state: State):\n",
    "    \"\"\"Route back to code generator or end based upon feedback from the evaluator\"\"\"\n",
    "    if state[\"simplicity\"] == \"simple\":\n",
    "        return \"Accepted\"\n",
    "    elif state[\"simplicity\"] == \"complicated\":\n",
    "        return \"Rejected + Feedback\""
   ]
  },
  {
   "cell_type": "code",
   "execution_count": 13,
   "metadata": {},
   "outputs": [
    {
     "data": {
      "image/png": "[encoded data removed]",
      "text/plain": [
       "<IPython.core.display.Image object>"
      ]
     },
     "metadata": {},
     "output_type": "display_data"
    }
   ],
   "source": [
    "from langgraph.graph import StateGraph, START, END\n",
    "from IPython.display import Image, display\n",
    "\n",
    "builder = StateGraph(State)\n",
    "\n",
    "builder.add_node(\"code_generator\", code_generator)\n",
    "builder.add_node(\"code_evaluator\", code_evaluator)\n",
    "\n",
    "builder.add_edge(START, \"code_generator\")\n",
    "builder.add_edge(\"code_generator\", \"code_evaluator\")\n",
    "builder.add_conditional_edges(\n",
    "    \"code_evaluator\",\n",
    "    route_code,\n",
    "    {  # Name returned by route_code : Name of next node to visit\n",
    "        \"Accepted\": END,\n",
    "        \"Rejected + Feedback\": \"code_generator\",\n",
    "    },\n",
    ")\n",
    "\n",
    "workflow = builder.compile()\n",
    "display(Image(workflow.get_graph().draw_mermaid_png()))"
   ]
  },
  {
   "cell_type": "code",
   "execution_count": 15,
   "metadata": {},
   "outputs": [
    {
     "data": {
      "text/markdown": [
       "**Fibonacci Series in Python**\n",
       "================================\n",
       "\n",
       "The Fibonacci series is a series of numbers in which each number is the sum of the two preceding ones, usually starting with 0 and 1.\n",
       "\n",
       "**Code**\n",
       "--------\n",
       "\n",
       "```python\n",
       "def fibonacci(n):\n",
       "    \"\"\"\n",
       "    Generate the Fibonacci series up to the nth term.\n",
       "\n",
       "    Args:\n",
       "        n (int): The number of terms in the series.\n",
       "\n",
       "    Returns:\n",
       "        list: A list of Fibonacci numbers.\n",
       "    \"\"\"\n",
       "    fib_series = [0, 1]\n",
       "    while len(fib_series) < n:\n",
       "        fib_series.append(fib_series[-1] + fib_series[-2])\n",
       "    return fib_series\n",
       "\n",
       "# Example usage:\n",
       "n = 10  # number of terms\n",
       "fib_series = fibonacci(n)\n",
       "print(f\"Fibonacci series up to {n} terms: {fib_series}\")\n",
       "```\n",
       "\n",
       "**How it Works**\n",
       "----------------\n",
       "\n",
       "1. The `fibonacci` function takes an integer `n` as input, representing the number of terms in the series.\n",
       "2. We initialize the `fib_series` list with the first two Fibonacci numbers, 0 and 1.\n",
       "3. We use a while loop to generate the remaining terms in the series.\n",
       "4. In each iteration, we append the sum of the last two numbers in the series to the `fib_series` list.\n",
       "5. Once the series has `n` terms, we return the `fib_series` list.\n",
       "6. In the example usage, we call the `fibonacci` function with `n = 10` and print the resulting series.\n",
       "\n",
       "**Output**\n",
       "----------\n",
       "\n",
       "```\n",
       "Fibonacci series up to 10 terms: [0, 1, 1, 2, 3, 5, 8, 13, 21, 34]\n",
       "```\n",
       "\n",
       "**Alternative Implementation**\n",
       "---------------------------\n",
       "\n",
       "If you prefer a recursive implementation, you can use the following code:\n",
       "\n",
       "```python\n",
       "def fibonacci_recursive(n):\n",
       "    if n <= 1:\n",
       "        return n\n",
       "    return fibonacci_recursive(n-1) + fibonacci_recursive(n-2)\n",
       "\n",
       "def fibonacci_series(n):\n",
       "    return [fibonacci_recursive(i) for i in range(n)]\n",
       "\n",
       "# Example usage:\n",
       "n = 10\n",
       "fib_series = fibonacci_series(n)\n",
       "print(f\"Fibonacci series up to {n} terms: {fib_series}\")\n",
       "```\n",
       "\n",
       "Note that the recursive implementation has a higher time complexity than the iterative implementation and may not be suitable for large values of `n`."
      ],
      "text/plain": [
       "<IPython.core.display.Markdown object>"
      ]
     },
     "execution_count": 15,
     "metadata": {},
     "output_type": "execute_result"
    }
   ],
   "source": [
    "from IPython.display import Markdown\n",
    "state = workflow.invoke({\"topic\": \"Fibonacci Series\"})\n",
    "Markdown(state['code'])"
   ]
  },
  {
   "cell_type": "code",
   "execution_count": 16,
   "metadata": {},
   "outputs": [
    {
     "name": "stdout",
     "output_type": "stream",
     "text": [
      "\n",
      "TOPIC\n",
      " Fibonacci Series\n",
      "\n",
      "FEEDBACK:\n",
      " The code is well-structured and easy to understand. It uses clear and descriptive variable names and includes docstrings to explain the purpose of each function. The example usage and output are also provided, making it simple for users to understand how to use the code.\n",
      "\n",
      "SIMPLICITY:\n",
      " simple\n"
     ]
    }
   ],
   "source": [
    "print(\"\\nTOPIC\\n\",state['topic'])\n",
    "print(\"\\nFEEDBACK:\\n\",state['feedback'])\n",
    "print(\"\\nSIMPLICITY:\\n\",state['simplicity'])"
   ]
  }
 ],
 "metadata": {
  "kernelspec": {
   "display_name": "Python 3",
   "language": "python",
   "name": "python3"
  },
  "language_info": {
   "codemirror_mode": {
    "name": "ipython",
    "version": 3
   },
   "file_extension": ".py",
   "mimetype": "text/x-python",
   "name": "python",
   "nbconvert_exporter": "python",
   "pygments_lexer": "ipython3",
   "version": "3.12.0"
  }
 },
 "nbformat": 4,
 "nbformat_minor": 2
}
