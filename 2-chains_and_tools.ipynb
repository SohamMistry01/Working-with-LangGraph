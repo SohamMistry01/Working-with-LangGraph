{
 "cells": [
  {
   "cell_type": "markdown",
   "metadata": {},
   "source": [
    "#### Chains in LangGraph"
   ]
  },
  {
   "cell_type": "code",
   "execution_count": 1,
   "metadata": {},
   "outputs": [],
   "source": [
    "from dotenv import load_dotenv\n",
    "load_dotenv()\n",
    "import os\n",
    "groq_api_key = os.getenv(\"GROQ_API_KEY\")"
   ]
  },
  {
   "cell_type": "code",
   "execution_count": 2,
   "metadata": {},
   "outputs": [
    {
     "name": "stdout",
     "output_type": "stream",
     "text": [
      "==================================\u001b[1m Ai Message \u001b[0m==================================\n",
      "Name: LLM\n",
      "\n",
      "Hi, What's on your mind?\n",
      "================================\u001b[1m Human Message \u001b[0m=================================\n",
      "Name: Soham\n",
      "\n",
      "Help me in doing simple calculations.\n",
      "==================================\u001b[1m Ai Message \u001b[0m==================================\n",
      "Name: LLM\n",
      "\n",
      "Sure! Let's start calculating!\n",
      "================================\u001b[1m Human Message \u001b[0m=================================\n",
      "Name: Soham\n",
      "\n",
      "What is 20 plus 3\n"
     ]
    }
   ],
   "source": [
    "from langchain_core.messages import AIMessage, HumanMessage\n",
    "from pprint import pprint\n",
    "\n",
    "messages = [AIMessage(content=f\"Hi, What's on your mind?\", name=\"LLM\")]\n",
    "messages.append(HumanMessage(content=f\"Help me in doing simple calculations.\", name=\"Soham\"))\n",
    "messages.append(AIMessage(content=f\"Sure! Let's start calculating!\", name=\"LLM\"))\n",
    "messages.append(HumanMessage(content=f\"What is 20 plus 3\", name=\"Soham\"))\n",
    "\n",
    "for message in messages:\n",
    "    message.pretty_print()"
   ]
  },
  {
   "cell_type": "code",
   "execution_count": 33,
   "metadata": {},
   "outputs": [],
   "source": [
    "from langchain_groq import ChatGroq\n",
    "llm = ChatGroq(model=\"qwen-qwq-32b\")"
   ]
  },
  {
   "cell_type": "code",
   "execution_count": 4,
   "metadata": {},
   "outputs": [],
   "source": [
    "result = llm.invoke(messages)"
   ]
  },
  {
   "cell_type": "code",
   "execution_count": 5,
   "metadata": {},
   "outputs": [
    {
     "data": {
      "text/plain": [
       "AIMessage(content='\\n<think>\\nOkay, the user asked \"What is 20 plus 3\". Let me break this down. They want a simple calculation. First, I need to confirm the numbers involved. 20 and 3. Addition is straightforward here. \\n\\nWait, 20 plus 3. Let me visualize it. If you have 20 items and add 3 more, the total should be 23. But I should double-check to avoid any mistakes. Maybe count up from 20: 21, 22, 23. That\\'s three numbers, so yes, 23.\\n\\nIs there any chance they might need it in a different format? Like written out? Probably not necessary unless specified. The user just asked for the result. \\n\\nAlso, considering the previous messages, the user had asked for help with simple calculations, so this is a follow-up. The response should be quick and to the point. No need for extra explanations unless they ask for more details. \\n\\nHmm, maybe they want to confirm if I can handle basic math. Let me make sure there\\'s no trick here. 20 +3 is definitely 23. Alright, I\\'ll just provide the answer clearly.\\n</think>\\n\\n20 plus 3 equals **23**. Let me know if you need more calculations! 😊', additional_kwargs={}, response_metadata={'token_usage': {'completion_tokens': 276, 'prompt_tokens': 60, 'total_tokens': 336, 'completion_time': 0.646845794, 'prompt_time': 0.00590814, 'queue_time': 0.045756672, 'total_time': 0.652753934}, 'model_name': 'qwen-qwq-32b', 'system_fingerprint': 'fp_6b36369676', 'finish_reason': 'stop', 'logprobs': None}, id='run--849b83e8-4293-41b8-a89e-b925d10cb383-0', usage_metadata={'input_tokens': 60, 'output_tokens': 276, 'total_tokens': 336})"
      ]
     },
     "execution_count": 5,
     "metadata": {},
     "output_type": "execute_result"
    }
   ],
   "source": [
    "result"
   ]
  },
  {
   "cell_type": "code",
   "execution_count": 6,
   "metadata": {},
   "outputs": [
    {
     "data": {
      "text/plain": [
       "{'token_usage': {'completion_tokens': 276,\n",
       "  'prompt_tokens': 60,\n",
       "  'total_tokens': 336,\n",
       "  'completion_time': 0.646845794,\n",
       "  'prompt_time': 0.00590814,\n",
       "  'queue_time': 0.045756672,\n",
       "  'total_time': 0.652753934},\n",
       " 'model_name': 'qwen-qwq-32b',\n",
       " 'system_fingerprint': 'fp_6b36369676',\n",
       " 'finish_reason': 'stop',\n",
       " 'logprobs': None}"
      ]
     },
     "execution_count": 6,
     "metadata": {},
     "output_type": "execute_result"
    }
   ],
   "source": [
    "result.response_metadata"
   ]
  },
  {
   "cell_type": "code",
   "execution_count": 7,
   "metadata": {},
   "outputs": [
    {
     "name": "stdout",
     "output_type": "stream",
     "text": [
      "==================================\u001b[1m Ai Message \u001b[0m==================================\n",
      "\n",
      "\n",
      "<think>\n",
      "Okay, the user asked \"What is 20 plus 3\". Let me break this down. They want a simple calculation. First, I need to confirm the numbers involved. 20 and 3. Addition is straightforward here. \n",
      "\n",
      "Wait, 20 plus 3. Let me visualize it. If you have 20 items and add 3 more, the total should be 23. But I should double-check to avoid any mistakes. Maybe count up from 20: 21, 22, 23. That's three numbers, so yes, 23.\n",
      "\n",
      "Is there any chance they might need it in a different format? Like written out? Probably not necessary unless specified. The user just asked for the result. \n",
      "\n",
      "Also, considering the previous messages, the user had asked for help with simple calculations, so this is a follow-up. The response should be quick and to the point. No need for extra explanations unless they ask for more details. \n",
      "\n",
      "Hmm, maybe they want to confirm if I can handle basic math. Let me make sure there's no trick here. 20 +3 is definitely 23. Alright, I'll just provide the answer clearly.\n",
      "</think>\n",
      "\n",
      "20 plus 3 equals **23**. Let me know if you need more calculations! 😊\n"
     ]
    }
   ],
   "source": [
    "result.pretty_print()"
   ]
  },
  {
   "cell_type": "markdown",
   "metadata": {},
   "source": [
    "#### Tools in LangGraph"
   ]
  },
  {
   "cell_type": "code",
   "execution_count": 34,
   "metadata": {},
   "outputs": [],
   "source": [
    "def add(a:int, b:int)-> int:\n",
    "    \"\"\"\n",
    "    Add a and b\n",
    "    args:\n",
    "        a (int): first integer\n",
    "        b (int): second integer\n",
    "    returns:\n",
    "        int\n",
    "    \"\"\"\n",
    "    return a+b"
   ]
  },
  {
   "cell_type": "code",
   "execution_count": 36,
   "metadata": {},
   "outputs": [],
   "source": [
    "llm_with_tool = llm.bind_tools([add])\n",
    "tool_call = llm_with_tool.invoke([HumanMessage(content=f\"What is 3+4\", name=\"Soham\")])"
   ]
  },
  {
   "cell_type": "code",
   "execution_count": 19,
   "metadata": {},
   "outputs": [
    {
     "data": {
      "text/plain": [
       "[{'name': 'add',\n",
       "  'args': {'a': 3, 'b': 4},\n",
       "  'id': '5mkm6senx',\n",
       "  'type': 'tool_call'}]"
      ]
     },
     "execution_count": 19,
     "metadata": {},
     "output_type": "execute_result"
    }
   ],
   "source": [
    "tool_call.tool_calls"
   ]
  },
  {
   "cell_type": "code",
   "execution_count": 38,
   "metadata": {},
   "outputs": [],
   "source": [
    "from langchain_core.messages import AnyMessage\n",
    "from typing_extensions import TypedDict\n",
    "from typing import Annotated\n",
    "from langgraph.graph.message import add_messages\n",
    "\n",
    "class State(TypedDict):\n",
    "    messages:Annotated[list[AnyMessage],add_messages]"
   ]
  },
  {
   "cell_type": "code",
   "execution_count": 39,
   "metadata": {},
   "outputs": [
    {
     "data": {
      "text/plain": [
       "[AIMessage(content=\"Hi, What's in your mind?\", additional_kwargs={}, response_metadata={}, name='LLM'),\n",
       " HumanMessage(content='Help me in doing simple calculations.', additional_kwargs={}, response_metadata={}, name='Soham')]"
      ]
     },
     "execution_count": 39,
     "metadata": {},
     "output_type": "execute_result"
    }
   ],
   "source": [
    "initial_messages = [AIMessage(content=f\"Hi, What's in your mind?\", name=\"LLM\")]\n",
    "initial_messages.append(HumanMessage(content=f\"Help me in doing simple calculations.\", name=\"Soham\"))\n",
    "initial_messages"
   ]
  },
  {
   "cell_type": "code",
   "execution_count": 40,
   "metadata": {},
   "outputs": [
    {
     "data": {
      "text/plain": [
       "AIMessage(content=\"Sure! Let's start calculating!\", additional_kwargs={}, response_metadata={}, name='LLM')"
      ]
     },
     "execution_count": 40,
     "metadata": {},
     "output_type": "execute_result"
    }
   ],
   "source": [
    "ai_message = AIMessage(content=f\"Sure! Let's start calculating!\", name=\"LLM\")\n",
    "ai_message"
   ]
  },
  {
   "cell_type": "code",
   "execution_count": 41,
   "metadata": {},
   "outputs": [
    {
     "data": {
      "text/plain": [
       "[AIMessage(content=\"Hi, What's in your mind?\", additional_kwargs={}, response_metadata={}, name='LLM', id='aca0314f-c2ce-481f-9999-901b4684a129'),\n",
       " HumanMessage(content='Help me in doing simple calculations.', additional_kwargs={}, response_metadata={}, name='Soham', id='e0cda92a-d93f-4436-8bb1-925246583a7c'),\n",
       " AIMessage(content=\"Sure! Let's start calculating!\", additional_kwargs={}, response_metadata={}, name='LLM', id='b3a3e8bf-3685-4ce9-ab8c-6cbf4dc0fd21')]"
      ]
     },
     "execution_count": 41,
     "metadata": {},
     "output_type": "execute_result"
    }
   ],
   "source": [
    "add_messages(initial_messages, ai_message)"
   ]
  },
  {
   "cell_type": "code",
   "execution_count": 42,
   "metadata": {},
   "outputs": [],
   "source": [
    "def llm_tool(state:State):\n",
    "    return {\"messages\":[llm_with_tool.invoke(state[\"messages\"])]}"
   ]
  },
  {
   "cell_type": "code",
   "execution_count": 43,
   "metadata": {},
   "outputs": [
    {
     "data": {
      "image/png": "[encoded data removed]",
      "text/plain": [
       "<IPython.core.display.Image object>"
      ]
     },
     "metadata": {},
     "output_type": "display_data"
    }
   ],
   "source": [
    "from IPython.display import Image, display\n",
    "from langgraph.graph import StateGraph, START, END\n",
    "builder=StateGraph(State)\n",
    "\n",
    "builder.add_node(\"llm_tool\",llm_tool)\n",
    "\n",
    "builder.add_edge(START,\"llm_tool\")\n",
    "builder.add_edge(\"llm_tool\",END)\n",
    "\n",
    "graph=builder.compile()\n",
    "\n",
    "display(Image(graph.get_graph().draw_mermaid_png()))"
   ]
  },
  {
   "cell_type": "code",
   "execution_count": 44,
   "metadata": {},
   "outputs": [
    {
     "name": "stdout",
     "output_type": "stream",
     "text": [
      "================================\u001b[1m Human Message \u001b[0m=================================\n",
      "\n",
      "What is 30+39\n",
      "==================================\u001b[1m Ai Message \u001b[0m==================================\n",
      "Tool Calls:\n",
      "  add (591wqs4h7)\n",
      " Call ID: 591wqs4h7\n",
      "  Args:\n",
      "    a: 30\n",
      "    b: 39\n"
     ]
    }
   ],
   "source": [
    "msgs = graph.invoke({\"messages\":\"What is 30+39\"})\n",
    "for msg in msgs[\"messages\"]:\n",
    "    msg.pretty_print()"
   ]
  },
  {
   "cell_type": "code",
   "execution_count": 45,
   "metadata": {},
   "outputs": [],
   "source": [
    "tools = [add]"
   ]
  },
  {
   "cell_type": "code",
   "execution_count": 46,
   "metadata": {},
   "outputs": [
    {
     "data": {
      "image/png": "[encoded data removed]",
      "text/plain": [
       "<IPython.core.display.Image object>"
      ]
     },
     "metadata": {},
     "output_type": "display_data"
    }
   ],
   "source": [
    "from langgraph.prebuilt import ToolNode\n",
    "from langgraph.prebuilt import tools_condition\n",
    "\n",
    "builder = StateGraph(State)\n",
    "builder.add_node(\"llm_tool\",llm_tool)\n",
    "builder.add_node(\"tools\", ToolNode(tools))\n",
    "builder.add_edge(START,\"llm_tool\")\n",
    "builder.add_conditional_edges(\"llm_tool\", tools_condition)\n",
    "builder.add_edge(\"tools\",END)\n",
    "graph_builder = builder.compile()\n",
    "\n",
    "display(Image(graph_builder.get_graph().draw_mermaid_png()))"
   ]
  },
  {
   "cell_type": "code",
   "execution_count": 47,
   "metadata": {},
   "outputs": [
    {
     "name": "stdout",
     "output_type": "stream",
     "text": [
      "================================\u001b[1m Human Message \u001b[0m=================================\n",
      "\n",
      "What is 20 plus 49\n",
      "==================================\u001b[1m Ai Message \u001b[0m==================================\n",
      "Tool Calls:\n",
      "  add (q63k5tynz)\n",
      " Call ID: q63k5tynz\n",
      "  Args:\n",
      "    a: 20\n",
      "    b: 49\n",
      "=================================\u001b[1m Tool Message \u001b[0m=================================\n",
      "Name: add\n",
      "\n",
      "69\n"
     ]
    }
   ],
   "source": [
    "msgs = graph_builder.invoke({\"messages\":\"What is 20 plus 49\"})\n",
    "for msg in msgs[\"messages\"]:\n",
    "    msg.pretty_print()"
   ]
  },
  {
   "cell_type": "code",
   "execution_count": 48,
   "metadata": {},
   "outputs": [
    {
     "name": "stdout",
     "output_type": "stream",
     "text": [
      "================================\u001b[1m Human Message \u001b[0m=================================\n",
      "\n",
      "Which LLM model are you?\n",
      "==================================\u001b[1m Ai Message \u001b[0m==================================\n",
      "\n",
      "I am Qwen, a large language model developed by Alibaba Cloud. How can I assist you today?\n"
     ]
    }
   ],
   "source": [
    "msgs = graph_builder.invoke({\"messages\":\"Which LLM model are you?\"})\n",
    "for msg in msgs[\"messages\"]:\n",
    "    msg.pretty_print()"
   ]
  },
  {
   "cell_type": "code",
   "execution_count": null,
   "metadata": {},
   "outputs": [],
   "source": []
  }
 ],
 "metadata": {
  "kernelspec": {
   "display_name": "venv",
   "language": "python",
   "name": "python3"
  },
  "language_info": {
   "codemirror_mode": {
    "name": "ipython",
    "version": 3
   },
   "file_extension": ".py",
   "mimetype": "text/x-python",
   "name": "python",
   "nbconvert_exporter": "python",
   "pygments_lexer": "ipython3",
   "version": "3.12.0"
  }
 },
 "nbformat": 4,
 "nbformat_minor": 2
}
