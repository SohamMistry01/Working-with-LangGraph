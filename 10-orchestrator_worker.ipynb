{
 "cells": [
  {
   "cell_type": "markdown",
   "metadata": {},
   "source": [
    "#### Setting up LLM "
   ]
  },
  {
   "cell_type": "code",
   "execution_count": 1,
   "metadata": {},
   "outputs": [],
   "source": [
    "import os\n",
    "from dotenv import load_dotenv\n",
    "load_dotenv()\n",
    "from langchain_groq import ChatGroq\n",
    "os.environ[\"GROQ_API_KEY\"] = os.getenv(\"GROQ_API_KEY\")\n",
    "llm =  ChatGroq(model=\"llama-3.3-70b-versatile\")"
   ]
  },
  {
   "cell_type": "markdown",
   "metadata": {},
   "source": [
    "#### Defining State Schema using Pydantic"
   ]
  },
  {
   "cell_type": "code",
   "execution_count": 2,
   "metadata": {},
   "outputs": [],
   "source": [
    "from typing import Annotated, List\n",
    "import operator\n",
    "from typing_extensions import Literal\n",
    "from pydantic import BaseModel,Field\n",
    "from langchain_core.messages import HumanMessage,SystemMessage\n",
    "from typing_extensions import TypedDict"
   ]
  },
  {
   "cell_type": "code",
   "execution_count": 3,
   "metadata": {},
   "outputs": [],
   "source": [
    "# Schema for structured output to use in planning\n",
    "class Section(BaseModel):\n",
    "    name:str=Field(description=\"Name for this section of the report\")\n",
    "    description:str=Field(description=\"Brief Overview of the main topics and concepts of the section\")\n",
    "\n",
    "class Sections(BaseModel):\n",
    "    sections:List[Section]=Field(\n",
    "        description=\"Sections of the report\"\n",
    "    )\n",
    "\n",
    "# Augment the LLM with schema for structured output\n",
    "planner=llm.with_structured_output(Sections)"
   ]
  },
  {
   "cell_type": "code",
   "execution_count": 4,
   "metadata": {},
   "outputs": [],
   "source": [
    "from langgraph.constants import Send\n",
    "\n",
    "# Graph state\n",
    "class State(TypedDict):\n",
    "    topic: str  # Report topic\n",
    "    sections: list[Section]  # List of report sections\n",
    "    completed_sections: Annotated[\n",
    "        list, operator.add\n",
    "    ]  # All workers write to this key in parallel\n",
    "    final_report: str  # Final report\n",
    "\n",
    "# Worker state\n",
    "class WorkerState(TypedDict):\n",
    "    section: Section\n",
    "    completed_sections: Annotated[list, operator.add]"
   ]
  },
  {
   "cell_type": "markdown",
   "metadata": {},
   "source": [
    "#### Node functions"
   ]
  },
  {
   "cell_type": "code",
   "execution_count": 5,
   "metadata": {},
   "outputs": [],
   "source": [
    "def orchestrator(state: State):\n",
    "    \"\"\"Orchestrator that generates a plan for the report\"\"\"\n",
    "    # Generate queries\n",
    "    report_sections = planner.invoke(\n",
    "        [\n",
    "            SystemMessage(content=\"Generate a plan for the report.\"),\n",
    "            HumanMessage(content=f\"Here is the report topic: {state['topic']}\"),\n",
    "        ]\n",
    "    )\n",
    "    print(\"Report Sections:\",report_sections)\n",
    "    return {\"sections\": report_sections.sections}"
   ]
  },
  {
   "cell_type": "code",
   "execution_count": 6,
   "metadata": {},
   "outputs": [],
   "source": [
    "def llm_call(state: WorkerState):\n",
    "    \"\"\"Worker writes a section of the report\"\"\"\n",
    "    # Generate section\n",
    "    section = llm.invoke(\n",
    "        [\n",
    "            SystemMessage(\n",
    "                content=\"Write a report section following the provided name and description. Include no preamble for each section. Use markdown formatting.\"\n",
    "            ),\n",
    "            HumanMessage(\n",
    "                content=f\"Here is the section name: {state['section'].name} and description: {state['section'].description}\"\n",
    "            ),\n",
    "        ]\n",
    "    )\n",
    "    # Write the updated section to completed sections\n",
    "    return {\"completed_sections\": [section.content]}"
   ]
  },
  {
   "cell_type": "code",
   "execution_count": 7,
   "metadata": {},
   "outputs": [],
   "source": [
    "def assign_workers(state: State):\n",
    "    \"\"\"Assign a worker to each section in the plan\"\"\"\n",
    "    # Kick off section writing in parallel via Send() API\n",
    "    return [Send(\"llm_call\", {\"section\": s}) for s in state[\"sections\"]]"
   ]
  },
  {
   "cell_type": "code",
   "execution_count": 8,
   "metadata": {},
   "outputs": [],
   "source": [
    "def synthesizer(state: State):\n",
    "    \"\"\"Synthesize full report from sections\"\"\"\n",
    "    # List of completed sections\n",
    "    completed_sections = state[\"completed_sections\"]\n",
    "    # Format completed section to str to use as context for final sections\n",
    "    completed_report_sections = \"\\n\\n---\\n\\n\".join(completed_sections)\n",
    "    return {\"final_report\": completed_report_sections}"
   ]
  },
  {
   "cell_type": "markdown",
   "metadata": {},
   "source": [
    "#### Creating State Graph"
   ]
  },
  {
   "cell_type": "code",
   "execution_count": 10,
   "metadata": {},
   "outputs": [
    {
     "data": {
      "image/png": "[encoded data removed]",
      "text/plain": [
       "<IPython.core.display.Image object>"
      ]
     },
     "metadata": {},
     "output_type": "display_data"
    }
   ],
   "source": [
    "from langgraph.graph import StateGraph, START, END\n",
    "from IPython.display import Image, display\n",
    "orchestrator_worker_builder = StateGraph(State)\n",
    "\n",
    "orchestrator_worker_builder.add_node(\"orchestrator\", orchestrator)\n",
    "orchestrator_worker_builder.add_node(\"llm_call\", llm_call)\n",
    "orchestrator_worker_builder.add_node(\"synthesizer\", synthesizer)\n",
    "\n",
    "orchestrator_worker_builder.add_edge(START, \"orchestrator\")\n",
    "orchestrator_worker_builder.add_conditional_edges(\n",
    "    \"orchestrator\", assign_workers, [\"llm_call\"]\n",
    ")\n",
    "orchestrator_worker_builder.add_edge(\"llm_call\", \"synthesizer\")\n",
    "orchestrator_worker_builder.add_edge(\"synthesizer\", END)\n",
    "\n",
    "orchestrator_worker = orchestrator_worker_builder.compile()\n",
    "display(Image(orchestrator_worker.get_graph().draw_mermaid_png()))"
   ]
  },
  {
   "cell_type": "code",
   "execution_count": 11,
   "metadata": {},
   "outputs": [
    {
     "name": "stdout",
     "output_type": "stream",
     "text": [
      "Report Sections: sections=[Section(name='Introduction to AI in Space Exploration', description='Overview of the current state of AI in space exploration, its applications, and benefits'), Section(name='History of AI in Space Exploration', description='Historical development of AI in space exploration, key milestones, and notable achievements'), Section(name='AI-Powered Spacecraft Systems', description='In-depth analysis of AI-powered systems used in spacecraft, including navigation, communication, and control systems'), Section(name='Robotic Space Exploration', description='Examination of AI-controlled robots used in space exploration, including their design, capabilities, and accomplishments'), Section(name='AI-Driven Data Analysis in Space Exploration', description='Discussion of AI-driven data analysis techniques used in space exploration, including data mining, pattern recognition, and predictive analytics'), Section(name='Challenges and Limitations of AI in Space Exploration', description='Analysis of the challenges and limitations of using AI in space exploration, including technical, logistical, and ethical considerations'), Section(name='Future of AI in Space Exploration', description='Speculative discussion of the potential future applications and advancements of AI in space exploration, including potential breakthroughs and innovations')]\n"
     ]
    },
    {
     "data": {
      "text/markdown": [
       "### Introduction to AI in Space Exploration\n",
       "#### Overview of Current State\n",
       "The current state of Artificial Intelligence (AI) in space exploration is rapidly evolving, with significant advancements in recent years. AI technologies such as machine learning, deep learning, and natural language processing are being increasingly applied in various aspects of space exploration, including spacecraft operations, data analysis, and robotic missions.\n",
       "\n",
       "#### Applications of AI in Space Exploration\n",
       "AI has numerous applications in space exploration, including:\n",
       "* **Spacecraft Navigation and Control**: AI algorithms can optimize spacecraft trajectories, predict and prevent collisions, and improve navigation systems.\n",
       "* **Data Analysis**: AI can process and analyze large amounts of data from space missions, including images, sensor readings, and telemetry data, to extract valuable insights and patterns.\n",
       "* **Robotic Missions**: AI can control and coordinate robotic missions, such as planetary rovers and robotic arms, to perform tasks autonomously.\n",
       "* **Predictive Maintenance**: AI can predict equipment failures and schedule maintenance, reducing downtime and improving overall system reliability.\n",
       "\n",
       "#### Benefits of AI in Space Exploration\n",
       "The benefits of AI in space exploration are numerous, including:\n",
       "* **Improved Efficiency**: AI can automate routine tasks, freeing up human resources for more complex and creative tasks.\n",
       "* **Enhanced Safety**: AI can predict and prevent accidents, improving the safety of astronauts and spacecraft.\n",
       "* **Increased Accuracy**: AI can analyze large amounts of data, reducing errors and improving the accuracy of space missions.\n",
       "* **Cost Savings**: AI can optimize resource allocation, reduce energy consumption, and improve overall system performance, resulting in significant cost savings.\n",
       "\n",
       "---\n",
       "\n",
       "### History of AI in Space Exploration\n",
       "#### Introduction to AI in Space\n",
       "The integration of Artificial Intelligence (AI) in space exploration has a history that spans several decades. The first notable use of AI in space exploration was in the 1960s, with the development of the Block II computers used in the Apollo missions. These computers utilized a form of AI to control the spacecraft's systems and navigate through space.\n",
       "\n",
       "#### Key Milestones\n",
       "* **1970s:** The first autonomous spacecraft, Voyager 1 and 2, were launched, utilizing AI to navigate and communicate with Earth.\n",
       "* **1980s:** The introduction of expert systems, a type of AI, in spacecraft such as the Space Shuttle, enabled more efficient and automated decision-making.\n",
       "* **1990s:** The Mars Pathfinder mission demonstrated the use of AI in planetary exploration, with the Sojourner rover using AI to navigate and analyze data.\n",
       "* **2000s:** The launch of the Mars Exploration Rovers, Spirit and Opportunity, further showcased the capabilities of AI in space exploration, with the rovers using AI to navigate and analyze data.\n",
       "\n",
       "#### Notable Achievements\n",
       "* **Autonomous Navigation:** The use of AI in autonomous navigation has enabled spacecraft to navigate through space and planetary bodies with increased accuracy and efficiency.\n",
       "* **Data Analysis:** AI has been used to analyze vast amounts of data collected by spacecraft, enabling scientists to gain a deeper understanding of the universe and make new discoveries.\n",
       "* **Robotics:** The use of AI in robotics has enabled the development of more advanced and autonomous robots, such as the Mars Curiosity Rover, which has been used to explore planetary surfaces.\n",
       "* **Deep Space Exploration:** AI has played a crucial role in deep space exploration, enabling spacecraft to travel further and longer than ever before, and to communicate with Earth more efficiently.\n",
       "\n",
       "---\n",
       "\n",
       "### AI-Powered Spacecraft Systems\n",
       "#### Introduction to AI in Spacecraft\n",
       "AI-powered systems are increasingly being used in spacecraft to improve navigation, communication, and control. These systems utilize machine learning algorithms and artificial intelligence to process vast amounts of data, make decisions, and perform tasks autonomously.\n",
       "\n",
       "#### Navigation Systems\n",
       "* **Autonomous Navigation**: AI-powered navigation systems enable spacecraft to navigate through space without human intervention. These systems use a combination of sensors, GPS, and machine learning algorithms to determine the spacecraft's position, velocity, and trajectory.\n",
       "* **Route Optimization**: AI can optimize routes for spacecraft, taking into account factors such as fuel consumption, time, and astronomical events. This enables spacecraft to travel more efficiently and reduce the risk of collisions.\n",
       "\n",
       "#### Communication Systems\n",
       "* **Data Transmission**: AI-powered communication systems can optimize data transmission between spacecraft and ground stations. These systems use machine learning algorithms to predict and adapt to changing communication conditions, ensuring reliable and efficient data transfer.\n",
       "* **Signal Processing**: AI can be used to process and analyze signals received from spacecraft, enabling scientists to extract valuable insights and information from the data.\n",
       "\n",
       "#### Control Systems\n",
       "* **Attitude Control**: AI-powered control systems can maintain a spacecraft's attitude and stability, ensuring the spacecraft remains pointing in the correct direction and maintaining communication with ground stations.\n",
       "* **Fault Detection**: AI can detect faults and anomalies in spacecraft systems, enabling prompt corrective action to be taken and reducing the risk of system failures.\n",
       "\n",
       "#### Benefits and Challenges\n",
       "* **Benefits**: AI-powered spacecraft systems offer numerous benefits, including improved efficiency, increased autonomy, and enhanced decision-making capabilities.\n",
       "* **Challenges**: However, the development and deployment of AI-powered spacecraft systems also pose significant challenges, including the need for advanced computing capabilities, reliable data storage, and robust security measures to prevent cyber threats.\n",
       "\n",
       "#### Future Developments\n",
       "* **Edge Computing**: The integration of edge computing in spacecraft systems will enable real-time processing and analysis of data, reducing latency and improving decision-making capabilities.\n",
       "* **Swarm Intelligence**: The development of swarm intelligence in spacecraft systems will enable multiple spacecraft to work together, sharing resources and coordinating actions to achieve complex tasks and missions.\n",
       "\n",
       "---\n",
       "\n",
       "### Robotic Space Exploration\n",
       "#### Introduction to Robotic Space Exploration\n",
       "Robotic space exploration involves the use of AI-controlled robots to explore and gather data from space. These robots are designed to withstand the harsh conditions of space and can operate autonomously, making them ideal for long-duration missions.\n",
       "\n",
       "#### Design and Capabilities\n",
       "The design of robotic space explorers varies depending on their intended mission and destination. Some common features include:\n",
       "* **Solar panels** or **nuclear reactors** to provide power\n",
       "* **Communication systems** to transmit data back to Earth\n",
       "* **Propulsion systems** such as rockets or ion thrusters to maneuver\n",
       "* **Sensors and cameras** to gather data and images\n",
       "* **Robotic arms** or **sample collection systems** to interact with the environment\n",
       "\n",
       "Robotic space explorers have a range of capabilities, including:\n",
       "* **Autonomous navigation** and decision-making\n",
       "* **Real-time data analysis** and transmission\n",
       "* **Sample collection and analysis**\n",
       "* **Long-duration operation** in extreme environments\n",
       "\n",
       "#### Accomplishments\n",
       "Robotic space explorers have achieved numerous significant accomplishments, including:\n",
       "* **Landing on Mars** and exploring the Martian surface\n",
       "* **Exploring the outer planets** and their moons\n",
       "* **Conducting asteroid and comet flybys**\n",
       "* **Gathering data on the Earth's climate** and natural resources\n",
       "* **Testing technologies** for future human missions to space\n",
       "\n",
       "Examples of successful robotic space explorers include:\n",
       "* **NASA's Curiosity Rover**, which has been operating on Mars since 2012\n",
       "* **ESA's Rosetta Mission**, which successfully landed a probe on a comet in 2014\n",
       "* **NASA's Cassini Mission**, which explored Saturn and its moons from 2004 to 2017\n",
       "\n",
       "#### Future Directions\n",
       "The future of robotic space exploration is likely to involve even more advanced technologies, such as:\n",
       "* **Artificial intelligence** and **machine learning** to enable more autonomous decision-making\n",
       "* **Swarm robotics** to coordinate multiple robots for complex missions\n",
       "* **In-orbit assembly** and **manufacturing** to enable the construction of larger spacecraft\n",
       "* **Human-robot collaboration** to support future human missions to space\n",
       "\n",
       "---\n",
       "\n",
       "### AI-Driven Data Analysis in Space Exploration\n",
       "#### Introduction to AI-Driven Data Analysis\n",
       "AI-driven data analysis techniques have revolutionized the field of space exploration, enabling scientists to extract valuable insights from vast amounts of data collected by spacecraft and satellites. Data mining, pattern recognition, and predictive analytics are some of the key techniques used in this context.\n",
       "\n",
       "#### Data Mining in Space Exploration\n",
       "Data mining involves the use of automated methods to identify patterns and relationships in large datasets. In space exploration, data mining is used to analyze data from various sources, such as:\n",
       "* **Spacecraft telemetry**: Data mining is used to identify patterns in spacecraft performance, detect anomalies, and predict potential failures.\n",
       "* **Astronomical observations**: Data mining is used to identify patterns in astronomical data, such as the detection of exoplanets, asteroids, and comets.\n",
       "* **Planetary data**: Data mining is used to analyze data from planetary missions, such as the detection of water on Mars, and the study of planetary atmospheres.\n",
       "\n",
       "#### Pattern Recognition in Space Exploration\n",
       "Pattern recognition involves the use of machine learning algorithms to identify patterns in data. In space exploration, pattern recognition is used to:\n",
       "* **Detect celestial objects**: Pattern recognition is used to detect celestial objects, such as stars, galaxies, and black holes.\n",
       "* **Analyze spacecraft images**: Pattern recognition is used to analyze images from spacecraft, such as the detection of craters, mountains, and other geological features.\n",
       "* **Predict spacecraft trajectories**: Pattern recognition is used to predict spacecraft trajectories, and detect potential collisions.\n",
       "\n",
       "#### Predictive Analytics in Space Exploration\n",
       "Predictive analytics involves the use of statistical models and machine learning algorithms to predict future events. In space exploration, predictive analytics is used to:\n",
       "* **Predict spacecraft performance**: Predictive analytics is used to predict spacecraft performance, and detect potential failures.\n",
       "* **Forecast celestial events**: Predictive analytics is used to forecast celestial events, such as solar flares, and planetary alignments.\n",
       "* **Optimize mission planning**: Predictive analytics is used to optimize mission planning, and predict the outcome of different mission scenarios.\n",
       "\n",
       "#### Benefits and Challenges of AI-Driven Data Analysis\n",
       "The use of AI-driven data analysis techniques in space exploration has several benefits, including:\n",
       "* **Improved accuracy**: AI-driven data analysis techniques can improve the accuracy of data analysis, and reduce the risk of human error.\n",
       "* **Increased efficiency**: AI-driven data analysis techniques can automate many tasks, and free up scientists to focus on higher-level analysis.\n",
       "* **Enhanced discovery**: AI-driven data analysis techniques can enable scientists to discover new patterns and relationships in data, and make new discoveries.\n",
       "However, there are also several challenges associated with the use of AI-driven data analysis techniques in space exploration, including:\n",
       "* **Data quality**: The quality of the data used in AI-driven data analysis techniques can have a significant impact on the accuracy of the results.\n",
       "* **Algorithmic bias**: AI-driven data analysis techniques can be biased towards certain patterns or relationships, and may not always detect the most important features in the data.\n",
       "* **Interpretation of results**: The results of AI-driven data analysis techniques can be difficult to interpret, and may require significant expertise to understand.\n",
       "\n",
       "---\n",
       "\n",
       "### Challenges and Limitations of AI in Space Exploration\n",
       "#### Technical Challenges\n",
       "* **Data Transmission Delays**: Communication delays between spacecraft and Earth can hinder real-time decision-making, making it challenging to implement AI systems that rely on rapid data exchange.\n",
       "* **Radiation Hardening**: Space radiation can damage AI hardware, requiring specialized components and shielding to ensure reliable operation.\n",
       "* **Power and Resource Constraints**: Spacecraft have limited power and computational resources, making it essential to optimize AI algorithms for efficiency and minimize energy consumption.\n",
       "\n",
       "#### Logistical Challenges\n",
       "* **Spacecraft Design and Integration**: Incorporating AI systems into spacecraft design can be complex, requiring careful consideration of factors like thermal management, vibration, and reliability.\n",
       "* **Testing and Validation**: Validating AI performance in space environments is difficult due to the unique conditions and lack of comprehensive testing facilities.\n",
       "* **Maintenance and Updates**: Performing maintenance and updates on AI systems in space is a significant challenge, particularly for missions with limited or no human intervention.\n",
       "\n",
       "#### Ethical Considerations\n",
       "* **Autonomy and Decision-Making**: As AI systems become more autonomous, there are concerns about their ability to make decisions that align with human values and ethics.\n",
       "* **Accountability and Liability**: The use of AI in space exploration raises questions about accountability and liability in the event of accidents or errors.\n",
       "* **Transparency and Explainability**: Ensuring transparency and explainability of AI decision-making processes is crucial for building trust and understanding in AI-driven space exploration missions.\n",
       "\n",
       "---\n",
       "\n",
       "### Future of AI in Space Exploration\n",
       "#### Introduction to AI-Driven Space Exploration\n",
       "The integration of Artificial Intelligence (AI) in space exploration is poised to revolutionize the field, enabling more efficient, safer, and deeper space missions. Future applications of AI will span across various aspects of space travel and discovery, from autonomous spacecraft operations to intelligent data analysis.\n",
       "\n",
       "#### Autonomous Spacecraft and Robotics\n",
       "Autonomous spacecraft and robots, powered by AI, will play a crucial role in future space missions. These systems will be capable of making decisions in real-time, adapting to unforeseen circumstances, and navigating through uncharted territories without human intervention. This autonomy will be crucial for missions to distant planets and moons, where communication delays make real-time human control impractical.\n",
       "\n",
       "#### Intelligent Data Analysis and Interpretation\n",
       "The vast amounts of data collected during space missions pose a significant challenge for human analysts. AI algorithms, however, can process and interpret this data much faster and more accurately, uncovering patterns and insights that might elude human observers. This capability will be instrumental in discovering new celestial bodies, understanding cosmic phenomena, and unraveling the mysteries of the universe.\n",
       "\n",
       "#### Potential Breakthroughs and Innovations\n",
       "Several potential breakthroughs and innovations are on the horizon, including:\n",
       "- **AI-Driven Propulsion Systems**: AI could optimize propulsion systems for greater efficiency, potentially leading to faster travel times and more accessible deep space missions.\n",
       "- **In-Orbit Manufacturing and Recycling**: AI-controlled systems could manufacture new spacecraft components or recycle existing materials in orbit, significantly extending the lifespan of space missions.\n",
       "- **Swarm Intelligence for Space Exploration**: Swarms of small, AI-controlled spacecraft could explore vast areas of space more efficiently than traditional single-spacecraft missions, providing unprecedented insights into the cosmos.\n",
       "\n",
       "#### Challenges and Considerations\n",
       "Despite the promising future of AI in space exploration, several challenges and considerations must be addressed, including:\n",
       "- **Reliability and Security**: AI systems must be designed with redundancy and security in mind to prevent failures or hijacking that could jeopardize missions.\n",
       "- **Ethical Implications**: As AI becomes more autonomous, ethical questions regarding decision-making authority, accountability, and the potential for AI to make discoveries that challenge human understanding must be considered.\n",
       "- **International Cooperation and Regulation**: The global community will need to establish clear guidelines and regulations for the development and use of AI in space exploration to ensure safety, fairness, and peaceful use.\n",
       "\n",
       "#### Conclusion\n",
       "The future of AI in space exploration holds immense promise, with potential advancements that could transform our understanding of the universe and our place within it. As we embark on this journey, it is crucial to address the challenges and considerations that come with integrating AI into space missions, ensuring that these technologies serve humanity's quest for knowledge and advancement in a responsible and beneficial manner."
      ],
      "text/plain": [
       "<IPython.core.display.Markdown object>"
      ]
     },
     "execution_count": 11,
     "metadata": {},
     "output_type": "execute_result"
    }
   ],
   "source": [
    "# Invoke\n",
    "state = orchestrator_worker.invoke({\"topic\": \"Create a report on Artificial Intelligence in Space Exploration.\"})\n",
    "from IPython.display import Markdown\n",
    "Markdown(state[\"final_report\"])"
   ]
  },
  {
   "cell_type": "code",
   "execution_count": null,
   "metadata": {},
   "outputs": [],
   "source": []
  }
 ],
 "metadata": {
  "kernelspec": {
   "display_name": "Python 3",
   "language": "python",
   "name": "python3"
  },
  "language_info": {
   "codemirror_mode": {
    "name": "ipython",
    "version": 3
   },
   "file_extension": ".py",
   "mimetype": "text/x-python",
   "name": "python",
   "nbconvert_exporter": "python",
   "pygments_lexer": "ipython3",
   "version": "3.12.0"
  }
 },
 "nbformat": 4,
 "nbformat_minor": 2
}
