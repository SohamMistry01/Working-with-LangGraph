{
 "cells": [
  {
   "cell_type": "markdown",
   "metadata": {},
   "source": [
    "#### Importing and setting up Wikipedia, ArXiv & Tavily Search Tools"
   ]
  },
  {
   "cell_type": "code",
   "execution_count": 7,
   "metadata": {},
   "outputs": [],
   "source": [
    "from langchain_community.tools.tavily_search import TavilySearchResults\n",
    "from langchain_community.tools import ArxivQueryRun, WikipediaQueryRun\n",
    "from langchain_community.utilities import ArxivAPIWrapper, WikipediaAPIWrapper\n",
    "from pprint import pprint"
   ]
  },
  {
   "cell_type": "code",
   "execution_count": 8,
   "metadata": {},
   "outputs": [],
   "source": [
    "import os\n",
    "from dotenv import load_dotenv\n",
    "load_dotenv()\n",
    "os.environ[\"TAVILY_API_KEY\"] = os.getenv(\"TAVILY_API_KEY\")\n",
    "os.environ[\"GROQ_API_KEY\"] = os.getenv(\"GROQ_API_KEY\")"
   ]
  },
  {
   "cell_type": "code",
   "execution_count": 9,
   "metadata": {},
   "outputs": [],
   "source": [
    "from langchain_groq import ChatGroq\n",
    "llm = ChatGroq(model=\"qwen-qwq-32b\")"
   ]
  },
  {
   "cell_type": "code",
   "execution_count": 36,
   "metadata": {},
   "outputs": [
    {
     "data": {
      "text/plain": [
       "'arxiv'"
      ]
     },
     "execution_count": 36,
     "metadata": {},
     "output_type": "execute_result"
    }
   ],
   "source": [
    "arxiv_api_wrapper = ArxivAPIWrapper(top_k_results=3, doc_content_chars_max=350)\n",
    "arxiv = ArxivQueryRun(api_wrapper=arxiv_api_wrapper)\n",
    "arxiv.name"
   ]
  },
  {
   "cell_type": "code",
   "execution_count": 37,
   "metadata": {},
   "outputs": [
    {
     "data": {
      "text/plain": [
       "'wikipedia'"
      ]
     },
     "execution_count": 37,
     "metadata": {},
     "output_type": "execute_result"
    }
   ],
   "source": [
    "wiki_api_wrapper = WikipediaAPIWrapper(top_k_results=1, doc_content_chars_max=350)\n",
    "wiki = WikipediaQueryRun(api_wrapper=wiki_api_wrapper)\n",
    "wiki.name"
   ]
  },
  {
   "cell_type": "code",
   "execution_count": 12,
   "metadata": {},
   "outputs": [
    {
     "data": {
      "text/plain": [
       "\"Published: 2024-07-22\\nTitle: Attention Is All You Need But You Don't Need All Of It For Inference of\""
      ]
     },
     "execution_count": 12,
     "metadata": {},
     "output_type": "execute_result"
    }
   ],
   "source": [
    "arxiv.invoke(\"Attention is all you need\")"
   ]
  },
  {
   "cell_type": "code",
   "execution_count": 16,
   "metadata": {},
   "outputs": [
    {
     "data": {
      "text/plain": [
       "'Page: Generative artificial intelligence\\nSummary: Generative artificial intelligence (Generative AI, GenAI, or GAI) is a subfield of artificial intell'"
      ]
     },
     "execution_count": 16,
     "metadata": {},
     "output_type": "execute_result"
    }
   ],
   "source": [
    "wiki.invoke(\"Generative AI\")"
   ]
  },
  {
   "cell_type": "code",
   "execution_count": 17,
   "metadata": {},
   "outputs": [
    {
     "name": "stderr",
     "output_type": "stream",
     "text": [
      "C:\\Users\\Soham\\AppData\\Local\\Temp\\ipykernel_1424\\2290291758.py:1: LangChainDeprecationWarning: The class `TavilySearchResults` was deprecated in LangChain 0.3.25 and will be removed in 1.0. An updated version of the class exists in the :class:`~langchain-tavily package and should be used instead. To use it run `pip install -U :class:`~langchain-tavily` and import as `from :class:`~langchain_tavily import TavilySearch``.\n",
      "  tavily = TavilySearchResults()\n"
     ]
    }
   ],
   "source": [
    "tavily = TavilySearchResults()"
   ]
  },
  {
   "cell_type": "code",
   "execution_count": 18,
   "metadata": {},
   "outputs": [
    {
     "data": {
      "text/plain": [
       "[{'title': 'Cricket | The Guardian',\n",
       "  'url': 'https://www.theguardian.com/sport/cricket',\n",
       "  'content': \"![](https://sb.scorecardresearch.com/p?c1=2&c2=6035250&cv=2.0&cj=1&cs_ucfr=0&comscorekw=sport)\\n\\n## Cricket\\n\\n## 18 June 2025\\n\\n![David Lawrence and Shaun Udal pose for a photo during the T20 Vitality Blast semi-final match  last September.](https://i.guim.co.uk/img/media/6ee2cd77dc9c4cf3e8712def8a9093e791d66eed/215_0_2485_1988/master/2485.jpg?width=465&dpr=1&s=none&crop=5%3A3)\\n\\n### The Spin newsletter David ‘Syd’ Lawrence’s brave race against time to tell his remarkable story\\n\\n## 17 June 2025 [...] ![Andy Bull](https://i.guim.co.uk/img/uploads/2025/06/10/Andy_Bull.png?width=75&dpr=1&s=none&crop=none)\\n\\n### Tendulkar v Anderson: two master craftsmen who gave more than most to Test cricket\\n\\n![Michael Levitt plays a shot for Netherlands](https://i.guim.co.uk/img/media/3781f6adbf76a51b385ab6590d0ab13bdd88e636/815_119_2417_1933/master/2417.jpg?width=465&dpr=1&s=none&crop=5%3A3)\\n\\n### Netherlands triumph in historic T20 after three super overs against Nepal\\n\\n## 16 June 2025 [...] ![South Africa v Australia - ICC World Test Championship Final 2025: Day Three<br>LONDON, ENGLAND - JUNE 13: Australia captain Pat Cummins leads his team from the fields at stumps on day three of ICC World Test Championship Final between South Africa and Australia at Lord's Cricket Ground on June 13, 2025 in London, England. (Photo by Gareth Copley/Getty\",\n",
       "  'score': 0.8987045},\n",
       " {'title': 'Major League Cricket 2025 - Los Angeles vs Washington Freedom',\n",
       "  'url': 'https://www.cricketworld.com/major-league-cricket-2025-los-angeles-vs-washington-freedom-cricket-betting-tips-and-match-predictions-16th-june/103598.htm',\n",
       "  'content': 'Major League Cricket, 8th match - Los Angeles Knight Riders vs Washington Freedom, to be played on the 17th of June, 2025 at Oakland',\n",
       "  'score': 0.89545894},\n",
       " {'title': 'International cricket in 2025 - Wikipedia',\n",
       "  'url': 'https://en.wikipedia.org/wiki/International_cricket_in_2025',\n",
       "  'content': '| [28 June 2025](#South_Africa_in_Zimbabwe) | [Zimbabwe](/wiki/Zimbabwe_national_cricket_team \"Zimbabwe national cricket team\") | [South Africa](/wiki/South_Africa_national_cricket_team \"South Africa national cricket team\") | [2] | — | — |\\n| [20 July 2025](#Pakistan_in_Bangladesh) | [Bangladesh](/wiki/Bangladesh_national_cricket_team \"Bangladesh national cricket team\") | [Pakistan](/wiki/Pakistan_national_cricket_team \"Pakistan national cricket team\") | — | — | [3] | [...] | [20 June 2025](#India_in_England) | [England](/wiki/England_cricket_team \"England cricket team\") | [India](/wiki/India_national_cricket_team \"India national cricket team\") | [5] | — | — |\\n| [25 June 2025](#Australia_in_the_West_Indies) | [West Indies](/wiki/West_Indies_cricket_team \"West Indies cricket team\") | [Australia](/wiki/Australia_national_cricket_team \"Australia national cricket team\") | [3] | — | [5] | [...] | Test series | | | |\\n| --- | --- | --- | --- |\\n| No. | Date | Venue | Result |\\n| [Test 2590](https://www.espncricinfo.com/ci/engine/match/1478863.html) | 28 June–2 July | [Queens Sports Club](/wiki/Queens_Sports_Club \"Queens Sports Club\"), [Bulawayo](/wiki/Bulawayo \"Bulawayo\") |  |\\n| [2nd Test](https://www.espncricinfo.com/ci/engine/match/1478864.html) | 6–10 July | [Queens Sports Club](/wiki/Queens_Sports_Club \"Queens Sports Club\"), [Bulawayo](/wiki/Bulawayo \"Bulawayo\") |  |',\n",
       "  'score': 0.8773195},\n",
       " {'title': 'June 2025 - Scores & Fixtures - Cricket - BBC Sport',\n",
       "  'url': 'https://www.bbc.com/sport/cricket/scores-fixtures/2025-06-01',\n",
       "  'content': 'Worcestershire Rapids win by 60 runs (DLS Method). Worcestershire Rapids innings: 201 for 5 from 20.0 overs. Yorkshire innings:.',\n",
       "  'score': 0.8745175},\n",
       " {'title': 'Major League Cricket 2025 schedule: Know full MLC match list and ...',\n",
       "  'url': 'https://www.olympics.com/en/news/major-league-cricket-mlc-2025-schedule-fixtures-match-times-india',\n",
       "  'content': '**Major League Cricket 2025**, the third season of the top-tier [T20 tournament](https://www.olympics.com/en/news/first-t20-cricket-match) in the USA, will be held from June 13 to July 14.\\n\\nSimilar to the previous edition, six teams will battle it out for the **Major League Cricket** (**MLC**) title. Recognised as the USA’s official T20 league, the MLC was granted List-A status by the International Cricket Council (ICC) last year.',\n",
       "  'score': 0.85097736}]"
      ]
     },
     "execution_count": 18,
     "metadata": {},
     "output_type": "execute_result"
    }
   ],
   "source": [
    "tavily.invoke(\"Recent Cricket News of June 2025\")"
   ]
  },
  {
   "cell_type": "code",
   "execution_count": 38,
   "metadata": {},
   "outputs": [],
   "source": [
    "tools = [arxiv, wiki, tavily]"
   ]
  },
  {
   "cell_type": "code",
   "execution_count": 39,
   "metadata": {},
   "outputs": [],
   "source": [
    "llm_with_tools = llm.bind_tools(tools)"
   ]
  },
  {
   "cell_type": "code",
   "execution_count": 22,
   "metadata": {},
   "outputs": [],
   "source": [
    "from langchain_core.messages import HumanMessage\n",
    "\n",
    "response = llm_with_tools.invoke([HumanMessage(content=f\"Generative Adversial Networks\")])"
   ]
  },
  {
   "cell_type": "code",
   "execution_count": 23,
   "metadata": {},
   "outputs": [
    {
     "data": {
      "text/plain": [
       "[{'name': 'wikipedia',\n",
       "  'args': {'query': 'Generative adversarial network'},\n",
       "  'id': 'p5we30c09',\n",
       "  'type': 'tool_call'},\n",
       " {'name': 'arxiv',\n",
       "  'args': {'query': 'Generative Adversarial Networks'},\n",
       "  'id': 'j4fbc8a6h',\n",
       "  'type': 'tool_call'},\n",
       " {'name': 'tavily_search_results_json',\n",
       "  'args': {'query': 'Generative Adversarial Networks applications and recent developments'},\n",
       "  'id': 'm1294se10',\n",
       "  'type': 'tool_call'}]"
      ]
     },
     "execution_count": 23,
     "metadata": {},
     "output_type": "execute_result"
    }
   ],
   "source": [
    "response.tool_calls"
   ]
  },
  {
   "cell_type": "markdown",
   "metadata": {},
   "source": [
    "#### Creating a LangGraph chatbot integrated with these tools"
   ]
  },
  {
   "cell_type": "code",
   "execution_count": 40,
   "metadata": {},
   "outputs": [],
   "source": [
    "from typing_extensions import TypedDict\n",
    "from langchain_core.messages import AnyMessage\n",
    "from typing import Annotated\n",
    "from langgraph.graph.message import add_messages\n",
    "\n",
    "class State(TypedDict):\n",
    "    messages:Annotated[list[AnyMessage],add_messages]"
   ]
  },
  {
   "cell_type": "code",
   "execution_count": 41,
   "metadata": {},
   "outputs": [
    {
     "data": {
      "image/png": "[encoded data removed]",
      "text/plain": [
       "<IPython.core.display.Image object>"
      ]
     },
     "metadata": {},
     "output_type": "display_data"
    }
   ],
   "source": [
    "from IPython.display import Image, display\n",
    "from langgraph.graph import StateGraph, START, END\n",
    "from langgraph.prebuilt import ToolNode\n",
    "from langgraph.prebuilt import tools_condition\n",
    "\n",
    "def tool_calling_llm(state:State):\n",
    "    return {\"messages\":[llm_with_tools.invoke(state[\"messages\"])]}\n",
    "\n",
    "builder = StateGraph(State)\n",
    "builder.add_node(\"tool_calling_llm\", tool_calling_llm)\n",
    "builder.add_node(\"tools\", ToolNode(tools))\n",
    "\n",
    "builder.add_edge(START, \"tool_calling_llm\")\n",
    "builder.add_conditional_edges(\n",
    "    \"tool_calling_llm\",\n",
    "    # If the latest message (result) from assistant is a tool call -> tools_condition routes to tools\n",
    "    # If the latest message (result) from assistant is a not a tool call -> tools_condition routes to END\n",
    "    tools_condition,\n",
    ")\n",
    "builder.add_edge(\"tools\", END)\n",
    "\n",
    "graph = builder.compile()\n",
    "display(Image(graph.get_graph().draw_mermaid_png()))"
   ]
  },
  {
   "cell_type": "code",
   "execution_count": 42,
   "metadata": {},
   "outputs": [
    {
     "name": "stdout",
     "output_type": "stream",
     "text": [
      "================================\u001b[1m Human Message \u001b[0m=================================\n",
      "\n",
      "1706.03762\n",
      "==================================\u001b[1m Ai Message \u001b[0m==================================\n",
      "Tool Calls:\n",
      "  arxiv (avq984238)\n",
      " Call ID: avq984238\n",
      "  Args:\n",
      "    query: 1706.03762\n",
      "=================================\u001b[1m Tool Message \u001b[0m=================================\n",
      "Name: arxiv\n",
      "\n",
      "Published: 2023-08-02\n",
      "Title: Attention Is All You Need\n",
      "Authors: Ashish Vaswani, Noam Shazeer, Niki Parmar, Jakob Uszkoreit, Llion Jones, Aidan N. Gomez, Lukasz Kaiser, Illia Polosukhin\n",
      "Summary: The dominant sequence transduction models are based on complex recurrent or\n",
      "convolutional neural networks in an encoder-decoder configuration. The best\n",
      "perf\n"
     ]
    }
   ],
   "source": [
    "messages=graph.invoke({\"messages\":HumanMessage(content=\"1706.03762\")})\n",
    "for m in messages['messages']:\n",
    "    m.pretty_print()"
   ]
  },
  {
   "cell_type": "code",
   "execution_count": 43,
   "metadata": {},
   "outputs": [
    {
     "name": "stdout",
     "output_type": "stream",
     "text": [
      "================================\u001b[1m Human Message \u001b[0m=================================\n",
      "\n",
      "XGBoost\n",
      "==================================\u001b[1m Ai Message \u001b[0m==================================\n",
      "Tool Calls:\n",
      "  wikipedia (vba6qfp5h)\n",
      " Call ID: vba6qfp5h\n",
      "  Args:\n",
      "    query: XGBoost\n",
      "  tavily_search_results_json (wb84rasqq)\n",
      " Call ID: wb84rasqq\n",
      "  Args:\n",
      "    query: XGBoost latest developments and applications\n",
      "=================================\u001b[1m Tool Message \u001b[0m=================================\n",
      "Name: wikipedia\n",
      "\n",
      "Page: XGBoost\n",
      "Summary: XGBoost (eXtreme Gradient Boosting) is an open-source software library which provides a regularizing gradient boosting framework for C++, Java, Python, R, Julia, Perl, and Scala. It works on Linux, Microsoft Windows, and macOS. From the project description, it aims to provide a \"Scalable, Portable and Distributed Gradient Boo\n",
      "=================================\u001b[1m Tool Message \u001b[0m=================================\n",
      "Name: tavily_search_results_json\n",
      "\n",
      "[{\"title\": \"3.0.0 (2025 Feb 27) — xgboost 3.1.0-dev documentation\", \"url\": \"https://xgboost.readthedocs.io/en/latest/changes/v3.0.0.html\", \"content\": \"XGBoost can now utilize NVLink-C2C for GPU-based external memory training and can\\nhandle up to terabytes of data.\\n\\nSupport prediction cache ([#10707](https://github.com/dmlc/xgboost/pull/10707)).\\n\\nAutomatic page concatenation for improved GPU utilization ([#10887](https://github.com/dmlc/xgboost/pull/10887)).\\n\\nImproved quantile sketching algorithm for batch-based inputs. See the section for\\n[new features](#features) for more info. [...] New demos and documents for external memory, including distributed training. ([#11234](https://github.com/dmlc/xgboost/pull/11234),\\n[#10929](https://github.com/dmlc/xgboost/pull/10929), [#10916](https://github.com/dmlc/xgboost/pull/10916), [#10426](https://github.com/dmlc/xgboost/pull/10426), [#11113](https://github.com/dmlc/xgboost/pull/11113))\\n\\nReduced binary cache size and memory allocation overhead by not writing the cut matrix. ([#10444](https://github.com/dmlc/xgboost/pull/10444)) [...] Add checks for invalid inputs for cv. ([#11255](https://github.com/dmlc/xgboost/pull/11255))\\n\\nUpdate Python project classifiers. ([#10381](https://github.com/dmlc/xgboost/pull/10381), [#11028](https://github.com/dmlc/xgboost/pull/11028))\\n\\nSupport doc link for the sklearn module. Users can now find links to documents in a\\njupyter notebook. ([#10287](https://github.com/dmlc/xgboost/pull/10287))\\n\\nDask\", \"score\": 0.63723457}, {\"title\": \"XGBoost: The Ever-relevant Champion in the Age of Generative AI\", \"url\": \"https://medium.com/@nandinilreddy/xgboost-the-ever-relevant-champion-in-the-age-of-generative-ai-2146311fdfc6\", \"content\": \"To truly appreciate the power of XGBoost, let’s consider a real-world application. Imagine building an application that predicts home prices. The model takes in user inputs like square footage, the number of bedrooms, location, and age of the property, and in seconds, XGBoost generates a precise estimate of the home’s value.\", \"score\": 0.56258565}, {\"title\": \"Exploring the Novel Features of XGBoost 2.0 | by Olivier Caelen\", \"url\": \"https://medium.com/@ocaelen/exploring-the-novel-features-of-xgboost-2-0-1cf39919577f\", \"content\": \"The enhancements encapsulated in XGBoost 2.0 not only refine the existing machine learning capabilities but also introduce new avenues for tackling complex data science challenges. The addition of vector leaf models, and the improved learning-to-rank task handling are pivotal in propelling XGBoost to new heights of efficiency and accuracy.\\n\\n--\\n\\n--\\n\\n2 [...] By default, XGBoost builds one model for each target. One of the new feature of XGBoost 2.0 is the introduction of vector leaf tree models for multi-label outputs. This feature is still under development, but shows promise for handling multi-target regression, multi-label classification, and multi-class classification tasks. Unlike traditional tree models, which provide a scalar value at each leaf, *vector leaf tree models* provide a vector at each leaf, allowing for a more complex [...] These enhancements are designed to provide more control and flexibility in the LTR task, thus improving the efficiency and accuracy of ranking models. By offering a more robust framework for LTR, XGBoost 2.0 paves the way for better handling of ranking tasks in machine learning applications.\\n\\n## Memory Improvements\", \"score\": 0.559411}, {\"title\": \"xgboost 3.1.0-dev documentation\", \"url\": \"https://xgboost.readthedocs.io/en/latest/\", \"content\": \"**XGBoost** is an optimized distributed gradient boosting library designed to be highly **efficient**, **flexible** and **portable**.\\nIt implements machine learning algorithms under the [Gradient Boosting](https://en.wikipedia.org/wiki/Gradient_boosting) framework.\\nXGBoost provides a parallel tree boosting (also known as GBDT, GBM) that solve many data science problems in a fast and accurate way.\", \"score\": 0.5518883}, {\"title\": \"Releases · dmlc/xgboost - GitHub\", \"url\": \"https://github.com/dmlc/xgboost/releases\", \"content\": \"[#9682](https://github.com/dmlc/xgboost/pull/9682)) XGBoost now supports launchable inference on SYCL devices, and work on adding SYCL support for training is ongoing. [...] ![@trivialfis](https://avatars.githubusercontent.com/u/16746409?s=40&v=4)\\n`aae009b`\\n\\n### Release note\\n\\n<https://xgboost.readthedocs.io/en/latest/changes/v3.0.0.html>\\n\\n### Additional artifacts:\\n\\nYou can verify the downloaded packages by running the following command with your Unix shell:\\n\\n`431222b47085b9c3504d77ef59cfa23ae4fe9d701085313f47217e49e8823326 xgboost-src-3.0.0.tar.gz\\na5dafa6ccc1a3df3d7e3c84d61dae4dcc6921b56e0b1932309ebd519253e11b1 xgboost_r_gpu_linux.tar.gz` [...] This section lists some new features that are general to all language bindings. For package-specific changes, please visit respective sections.\\n\\n`deviance`\\n`lambdarank_normalization`\\n`QuantileDMatrix`\\n\\n### Bug fixes\\n\\n`FieldEntry`\\n`lambdarank_pair_method`\\n`gblinear`\\n\\n### Document\\n\\nHere is a list of documentation changes not specific to any XGBoost package.\\n\\n`base_score`\\n\\n### Python package\\n\\n`from xgboost import dask`\\n`import xgboost.dask`\\n\\n### Uh oh!\", \"score\": 0.5510187}]\n"
     ]
    }
   ],
   "source": [
    "messages=graph.invoke({\"messages\":HumanMessage(content=\"XGBoost\")})\n",
    "for m in messages['messages']:\n",
    "    m.pretty_print()"
   ]
  },
  {
   "cell_type": "code",
   "execution_count": 44,
   "metadata": {},
   "outputs": [
    {
     "name": "stdout",
     "output_type": "stream",
     "text": [
      "================================\u001b[1m Human Message \u001b[0m=================================\n",
      "\n",
      "Name something which is known as the powerhouse of the cell.\n",
      "==================================\u001b[1m Ai Message \u001b[0m==================================\n",
      "Tool Calls:\n",
      "  wikipedia (z6fsxb8hs)\n",
      " Call ID: z6fsxb8hs\n",
      "  Args:\n",
      "    query: powerhouse of the cell\n",
      "  wikipedia (ph9rqr1a3)\n",
      " Call ID: ph9rqr1a3\n",
      "  Args:\n",
      "    query: powerhouse of the cell\n",
      "  wikipedia (mnm6mr85f)\n",
      " Call ID: mnm6mr85f\n",
      "  Args:\n",
      "    query: powerhouse of the cell\n",
      "=================================\u001b[1m Tool Message \u001b[0m=================================\n",
      "Name: wikipedia\n",
      "\n",
      "Page: Mitochondrion\n",
      "Summary: A mitochondrion (pl. mitochondria) is an organelle found in the cells of most eukaryotes, such as animals, plants and fungi. Mitochondria have a double membrane structure and use aerobic respiration to generate adenosine triphosphate (ATP), which is used throughout the cell as a source of chemical energy. They were disc\n",
      "=================================\u001b[1m Tool Message \u001b[0m=================================\n",
      "Name: wikipedia\n",
      "\n",
      "Page: Mitochondrion\n",
      "Summary: A mitochondrion (pl. mitochondria) is an organelle found in the cells of most eukaryotes, such as animals, plants and fungi. Mitochondria have a double membrane structure and use aerobic respiration to generate adenosine triphosphate (ATP), which is used throughout the cell as a source of chemical energy. They were disc\n",
      "=================================\u001b[1m Tool Message \u001b[0m=================================\n",
      "Name: wikipedia\n",
      "\n",
      "Page: Mitochondrion\n",
      "Summary: A mitochondrion (pl. mitochondria) is an organelle found in the cells of most eukaryotes, such as animals, plants and fungi. Mitochondria have a double membrane structure and use aerobic respiration to generate adenosine triphosphate (ATP), which is used throughout the cell as a source of chemical energy. They were disc\n"
     ]
    }
   ],
   "source": [
    "messages=graph.invoke({\"messages\":HumanMessage(content=\"Name something which is known as the powerhouse of the cell.\")})\n",
    "for m in messages['messages']:\n",
    "    m.pretty_print()"
   ]
  },
  {
   "cell_type": "code",
   "execution_count": 45,
   "metadata": {},
   "outputs": [
    {
     "name": "stdout",
     "output_type": "stream",
     "text": [
      "================================\u001b[1m Human Message \u001b[0m=================================\n",
      "\n",
      "Which is the latest discovered prime number?\n",
      "==================================\u001b[1m Ai Message \u001b[0m==================================\n",
      "Tool Calls:\n",
      "  wikipedia (wmf7zrx50)\n",
      " Call ID: wmf7zrx50\n",
      "  Args:\n",
      "    query: Largest known prime number\n",
      "=================================\u001b[1m Tool Message \u001b[0m=================================\n",
      "Name: wikipedia\n",
      "\n",
      "Page: Largest known prime number\n",
      "Summary: The largest known prime number is 2136,279,841 − 1, a number which has 41,024,320 digits when written in the decimal system. It was found on October 12, 2024, on a cloud-based virtual machine volunteered by Luke Durant, a 36-year-old researcher from San Jose, California, to the Great Internet Mersenne Prime\n"
     ]
    }
   ],
   "source": [
    "messages=graph.invoke({\"messages\":HumanMessage(content=\"Which is the latest discovered prime number?\")})\n",
    "for m in messages['messages']:\n",
    "    m.pretty_print()"
   ]
  },
  {
   "cell_type": "code",
   "execution_count": 46,
   "metadata": {},
   "outputs": [
    {
     "name": "stdout",
     "output_type": "stream",
     "text": [
      "================================\u001b[1m Human Message \u001b[0m=================================\n",
      "\n",
      "Calculate the square root of 1024.\n",
      "==================================\u001b[1m Ai Message \u001b[0m==================================\n",
      "\n",
      "The square root of 1024 is **32**, because \\( 32 \\times 32 = 1024 \\).\n",
      "\n",
      "No external tools were needed here, as this is a straightforward mathematical calculation.\n"
     ]
    }
   ],
   "source": [
    "messages=graph.invoke({\"messages\":HumanMessage(content=\"Calculate the square root of 1024.\")})\n",
    "for m in messages['messages']:\n",
    "    m.pretty_print()"
   ]
  },
  {
   "cell_type": "code",
   "execution_count": 47,
   "metadata": {},
   "outputs": [
    {
     "name": "stdout",
     "output_type": "stream",
     "text": [
      "================================\u001b[1m Human Message \u001b[0m=================================\n",
      "\n",
      "Cuurent weather update in Pune, India.\n",
      "==================================\u001b[1m Ai Message \u001b[0m==================================\n",
      "Tool Calls:\n",
      "  tavily_search_results_json (6y422v16w)\n",
      " Call ID: 6y422v16w\n",
      "  Args:\n",
      "    query: current weather Pune India\n",
      "=================================\u001b[1m Tool Message \u001b[0m=================================\n",
      "Name: tavily_search_results_json\n",
      "\n",
      "[{\"title\": \"Pune weather in June 2025 - Weather25.com\", \"url\": \"https://www.weather25.com/asia/india/maharashtra/pune?page=month&month=June\", \"content\": \"/23°](https://www.weather25.com/asia/india/maharashtra/pune?page=today \\\"Weather in 18 june 2025\\\") | [19 Moderate rain 23° /22°](https://www.weather25.com/asia/india/maharashtra/pune?page=tomorrow \\\"Weather in 19 june 2025\\\") | [20 Patchy rain possible 25° /22°](https://www.weather25.com/asia/india/maharashtra/pune?page=day#date=2025-06-20 \\\"Weather in 20 june 2025\\\") | [21 Patchy rain possible 28° /23°](https://www.weather25.com/asia/india/maharashtra/pune?page=day#date=2025-06-21 \\\"Weather in 21 [...] ## The average weather in Pune in June\\n\\nThe weather in Pune in June is very hot. The average temperatures are between **23°C and 30°C**, drinking water regularly is advisable.\\n\\nYou can expect rain for roughly half of the month of June in Pune. We’re expecting roughly **8 to 15 days of rain**, so your rubber boots and umbrella are going to see plenty of use this month if you’re keen on staying dry. [...] ![Patchy rain possible]( \\\"Patchy rain possible\\\")\\n![Patchy rain possible]( \\\"Patchy rain possible\\\")\\n![Sunny]( \\\"Sunny\\\")\\n![Patchy rain possible]( \\\"Patchy rain possible\\\")\\n![Patchy rain possible]( \\\"Patchy rain possible\\\")\\n![Patchy rain possible]( \\\"Patchy rain possible\\\")\\n![Partly cloudy]( \\\"Partly cloudy\\\")\\n![Patchy rain possible]( \\\"Patchy rain possible\\\")\\n![Patchy rain possible]( \\\"Patchy rain possible\\\")\\n![Light rain shower]( \\\"Light rain shower\\\")\\n![Light rain shower]( \\\"Light rain shower\\\")\", \"score\": 0.9161773}, {\"title\": \"Weather in Pune in June 2025 - Detailed Forecast\", \"url\": \"https://www.easeweather.com/asia/india/maharashtra/pune-division/pune/june\", \"content\": \"![easeweather.com](https://www.easeweather.com/images/easeweather.com.svg \\\"easeweather.com\\\")\\n![India weather](https://res.easeweather.com/images/flags/india.svg \\\"India weather\\\")\\n\\n# Weather in Pune for June 2025\\n\\n### Temperatures\\n\\nUntil now, June 2025 in Pune is cooler than usual, with temperatures averaging 29 °C, this is -3 °C below the typical seasonal average.\\n\\nThe forecast for the next days in Pune predicts temperatures to be around 25 °C, close to the historical average. [...] | [17 Jun.](https://www.easeweather.com/asia/india/maharashtra/pune-division/pune/past#day=17&month=6 \\\"The weather in Pune on the 17th of June\\\") | Patchy rain possible Patchy rain possible | 32° /23° | 2.8 mm | 7 |  |\\n| [18 Jun.](https://www.easeweather.com/asia/india/maharashtra/pune-division/pune/today \\\"The weather in Pune on the 18th of June\\\") | Patchy rain possible Patchy rain possible | 27° /23° | 2.8 mm | 1.9 |  | [...] | [16 Moderate rain at times 29°](https://www.easeweather.com/asia/india/maharashtra/pune-division/pune/past#day=16&month=6 \\\"Weather for June 16 2025\\\") | [17 Patchy rain possible 32°](https://www.easeweather.com/asia/india/maharashtra/pune-division/pune/past#day=17&month=6 \\\"Weather for June 17 2025\\\") | [18 Patchy rain possible 27°](https://www.easeweather.com/asia/india/maharashtra/pune-division/pune/today \\\"Weather for June 18 2025\\\") | [19 Heavy rain\", \"score\": 0.90593183}, {\"title\": \"Pune Weather Today, Pune Temperature and Air Quality (2025-06-18)\", \"url\": \"https://www.indiatoday.in/weather/pune-weather-forecast-today\", \"content\": \"The minimum temperature in Pune today is likely to hover around 23 degrees Celsius, while the maximum temperature might reach 26 degrees Celsius. The mercury level is expected to hover around 25 degrees Celsius throughout the day, with the wind speed around 9.36. The wind will move around 249 degrees with a gust speed of 14.84. The sunrise time is 05:58 AM, while it will set at 07:12 PM on Wednesday. As per the seven-day weather prediction, the temperature in Pune is likely to reach 26 degrees [...] ![](https://sb.scorecardresearch.com/p?c1=2&c2=8549097&cv=3.6.0&cj=1)\\n\\n### TRENDING TOPICS\\n\\n### Download App\\n\\n# Pune Weather Today (Wednesday, Jun 18, 2025) [...] ![gust](https://cf-img-a-in.tosshub.com/sites/weather/resources/image/gust.svg)\\n![Rain](https://cf-img-a-in.tosshub.com/sites/weather/resources/image/svg/10d.png)\\n![Rain](https://cf-img-a-in.tosshub.com/sites/weather/resources/image/svg/10d.png)\\n![Clouds](https://cf-img-a-in.tosshub.com/sites/weather/resources/image/svg/04d.png)\\n![Rain](https://cf-img-a-in.tosshub.com/sites/weather/resources/image/svg/10d.png)\\n![Clouds](https://cf-img-a-in.tosshub.com/sites/weather/resources/image/svg/04d.png)\", \"score\": 0.89545894}, {\"title\": \"Weather Pune in June 2025: Temperature & Climate\", \"url\": \"https://en.climate-data.org/asia/india/maharashtra/pune-31/t/june-6/\", \"content\": \"| Max. Temperature °C (°F) | 28.7 °C  (83.7) °F | 31.3 °C  (88.4) °F | 34.5 °C  (94) °F | 37 °C  (98.7) °F | 35.5 °C  (95.9) °F | 29 °C  (84.2) °F | 25.6 °C  (78.1) °F | 25.4 °C  (77.7) °F | 26.9 °C  (80.5) °F | 29.2 °C  (84.6) °F | 29.3 °C  (84.8) °F | 28.4 °C  (83.2) °F |\\n| Precipitation / Rainfall mm (in) | 1  (0) | 2  (0) | 3  (0) | 10  (0) | 26  (1) | 247  (9) | 340  (13) | 270  (10) | 189  (7) | 81  (3) | 26  (1) | 5  (0) | [...] ## \\n\\n## \\n\\n# Pune Weather in June\\n\\nAre you planning a holiday with hopefully nice weather in Pune in June 2025? Here you can find all information about the weather in Pune in June:\\n\\n## Pune weather in June\\n\\n|  |  |  |  |  |  |\\n| --- | --- | --- | --- | --- | --- |\\n|  | Temperature June | 24.9°C | 76.8°F |  | Precipitation / Rainfall June | 247mm | 9.7 inches |\\n|  | Temperature June max. | 29°C | 84.2°F |\\n|  | Temperature June min. | 22.3°C | 72.2°F | [...] | Min. Temperature °C (°F) | 15.1 °C  (59.3) °F | 16.8 °C  (62.3) °F | 19.1 °C  (66.3) °F | 21 °C  (69.8) °F | 22 °C  (71.7) °F | 22.3 °C  (72.2) °F | 21.6 °C  (70.9) °F | 21.2 °C  (70.1) °F | 20.8 °C  (69.4) °F | 20 °C  (67.9) °F | 17.7 °C  (63.8) °F | 15.6 °C  (60) °F |\", \"score\": 0.8785752}, {\"title\": \"Weather in Pune - Climate monitor on June 2025\", \"url\": \"https://www.weatherandclimate.info/monitor/43063\", \"content\": \"|  |  |  |  |  |  |\\n| --- | --- | --- | --- | --- | --- |\\n| Date | Air temperature, °C | | | | Precipitation mm |\\n| Minimum | Average | Maximum | Departure  from normal |\\n| 1 | 22.6 | 26.0 | 29.5 | -3.1 | 1.0 |\\n| 2 | 21.5 | 26.6 | 33.6 | -2.4 | 0.0 |\\n| 3 | 23.5 | 27.5 | 32.2 | -1.4 | 0.0 |\\n| 4 | 22.0 | 23.8 | 28.4 | -5.0 | 17.0 |\\n| 5 | 20.9 | 25.8 | 32.0 | -2.8 | 0.0 |\\n| 6 | 23.6 | 26.6 | 33.0 | -1.9 | 15.0 |\\n| 7 | 22.8 | 25.2 | 29.2 | -3.2 | 5.0 |\\n| 8 | 22.6 | 26.8 | 32.2 | -1.5 | 0.0 | [...] | 9 | 23.8 | 27.0 | 31.4 | -1.2 | 0.0 |\\n| 10 | 22.4 | 26.8 | 31.5 | -1.3 | 0.0 |\\n| 11 | 23.9 | 27.1 | 30.7 | -0.9 | 5.0 |\\n| 12 | 21.5 | 26.7 | 31.0 | -1.2 | 26.0 |\\n| 13 | 21.3 | 25.6 | 30.8 | -2.2 | 63.0 |\\n| 14 | 22.4 | 26.7 | 32.4 | -1.0 | 0.3 |\\n| 15 | 24.4 | 26.3 | 29.4 | -1.3 | 31.0 |\\n| 16 | 22.6 | 24.3 | 26.2 | -3.2 | 9.0 |\\n| 17 | 22.3 | 25.6 | 29.8 | -1.8 | 3.0 |\\n| 18 |  |  |  |  |  |\\n| 19 |  |  |  |  |  |\\n| 20 |  |  |  |  |  |\\n| 21 |  |  |  |  |  |\\n| 22 |  |  |  |  |  |\", \"score\": 0.86981434}]\n"
     ]
    }
   ],
   "source": [
    "messages=graph.invoke({\"messages\":HumanMessage(content=\"Cuurent weather update in Pune, India.\")})\n",
    "for m in messages['messages']:\n",
    "    m.pretty_print()"
   ]
  }
 ],
 "metadata": {
  "kernelspec": {
   "display_name": "venv",
   "language": "python",
   "name": "python3"
  },
  "language_info": {
   "codemirror_mode": {
    "name": "ipython",
    "version": 3
   },
   "file_extension": ".py",
   "mimetype": "text/x-python",
   "name": "python",
   "nbconvert_exporter": "python",
   "pygments_lexer": "ipython3",
   "version": "3.12.0"
  }
 },
 "nbformat": 4,
 "nbformat_minor": 2
}
