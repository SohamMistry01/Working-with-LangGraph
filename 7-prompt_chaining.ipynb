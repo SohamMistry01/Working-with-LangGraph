{
 "cells": [
  {
   "cell_type": "markdown",
   "metadata": {},
   "source": [
    "#### Setting up LLM Model"
   ]
  },
  {
   "cell_type": "code",
   "execution_count": 1,
   "metadata": {},
   "outputs": [],
   "source": [
    "import os\n",
    "from dotenv import load_dotenv\n",
    "load_dotenv()\n",
    "os.environ[\"GROQ_API_KEY\"] = os.getenv(\"GROQ_API_KEY\")\n",
    "from langchain_groq import ChatGroq\n",
    "\n",
    "llm = ChatGroq(model=\"llama-3.3-70b-versatile\")"
   ]
  },
  {
   "cell_type": "markdown",
   "metadata": {},
   "source": [
    "#### Creating State Schema and StateGraph"
   ]
  },
  {
   "cell_type": "code",
   "execution_count": 2,
   "metadata": {},
   "outputs": [],
   "source": [
    "from typing_extensions import TypedDict\n",
    "from langgraph.graph import StateGraph, START, END\n",
    "from IPython.display import Image ,display\n",
    "\n",
    "class State(TypedDict):\n",
    "    topic:str\n",
    "    story:str\n",
    "    improved_story:str\n",
    "    final_story:str"
   ]
  },
  {
   "cell_type": "code",
   "execution_count": 3,
   "metadata": {},
   "outputs": [],
   "source": [
    "def generate_story(state:State):\n",
    "    msg=llm.invoke(f\"Write a one sentence story premise about {state[\"topic\"]}\")\n",
    "    return {\"story\":msg.content}\n",
    "\n",
    "def check_conflict(state:State):\n",
    "    if \"?\" in state[\"story\"] or \"!\" in state[\"story\"]:\n",
    "        return \"Fail\"\n",
    "    return \"Pass\"\n",
    "\n",
    "def improved_story(state:State):\n",
    "    msg=llm.invoke(f\"Enhance this story premise with vivid details: {state['story']}\")\n",
    "    return {\"improved_story\":msg.content}\n",
    "\n",
    "def polish_story(state:State):\n",
    "    msg=llm.invoke(f\"Add an unexpected twist to this story premise: {state['improved_story']}\")\n",
    "    return {\"final_story\":msg.content}"
   ]
  },
  {
   "cell_type": "code",
   "execution_count": 4,
   "metadata": {},
   "outputs": [
    {
     "data": {
      "image/png": "[encoded data removed]",
      "text/plain": [
       "<IPython.core.display.Image object>"
      ]
     },
     "metadata": {},
     "output_type": "display_data"
    }
   ],
   "source": [
    "graph=StateGraph(State)\n",
    "graph.add_node(\"generate\",generate_story)\n",
    "graph.add_node(\"improve\", improved_story)\n",
    "graph.add_node(\"polish\", polish_story)\n",
    "\n",
    "graph.add_edge(START,\"generate\")\n",
    "graph.add_conditional_edges(\"generate\",check_conflict,{\"Pass\":\"improve\",\"Fail\":\"generate\"})\n",
    "graph.add_edge(\"improve\",\"polish\")\n",
    "graph.add_edge(\"polish\",END)\n",
    "\n",
    "compiled_graph = graph.compile()\n",
    "\n",
    "graph_image = compiled_graph.get_graph().draw_mermaid_png()\n",
    "display(Image(graph_image))"
   ]
  },
  {
   "cell_type": "code",
   "execution_count": 6,
   "metadata": {},
   "outputs": [
    {
     "data": {
      "text/plain": [
       "{'topic': 'Space Exploration',\n",
       " 'story': \"As the last hope for humanity's survival, the spaceship Aurora embarks on a perilous journey to a distant planet, only to discover that they are not alone in the universe and that their new home holds secrets and dangers beyond their wildest imagination.\",\n",
       " 'improved_story': 'In the year 2256, as the ravaged Earth teetered on the brink of collapse, the spaceship Aurora, a marvel of human ingenuity, stood as the last bastion of hope for the survival of humanity. This gargantuan vessel, measuring over a mile in length, was a self-sustaining ecosystem, equipped with cutting-edge technology and a crew of 5,000 handpicked individuals, each possessing unique skills and expertise. The ship\\'s hull, a latticework of interlocking steel and titanium, glistened with a metallic sheen, as if infused with the very essence of the stars it was destined to traverse.\\n\\nAs the Aurora broke free of Earth\\'s gravitational shackles, it embarked on a perilous 200-year journey to the distant planet of Kepler-62f, a celestial body located over 1,200 light-years away. This enigmatic world, with its swirling clouds of iridescent gases and vast oceans, had been deemed the most promising candidate for human habitation. The ship\\'s crew, led by the indomitable Captain Jaxon, a seasoned astronaut with a will of iron, was determined to reach their new home, where they would establish a colony and ensure the continuation of the human species.\\n\\nHowever, as the Aurora traversed the vast expanse of interstellar space, the crew began to realize that they were not alone in the universe. Strange, unidentified energy signatures, akin to whispers from the cosmos, started to emanate from the depths of space. These eerie signals, which defied explanation, sent shivers down the spines of even the most hardened astronauts. It became increasingly clear that the universe was teeming with mysteries, and the crew of the Aurora was about to stumble upon secrets that would challenge their understanding of reality.\\n\\nUpon arriving at Kepler-62f, the crew was awestruck by the planet\\'s breathtaking beauty. Towering mountain ranges, their peaks shrouded in mist, stretched towards the sky like colossal sentinels. The landscape was dotted with strange, alien flora, their bioluminescent blooms casting an ethereal glow across the terrain. However, as the crew began to explore their new home, they discovered that Kepler-62f held dangers beyond their wildest imagination.\\n\\nThe planet was home to an enigmatic, indigenous species, known as the \"N\\'Tarians.\" These beings, with their slender, elongated bodies and eyes that burned like stars, seemed to possess an uncanny understanding of the universe and its workings. The N\\'Tarians were guardians of ancient secrets, hidden within the planet\\'s labyrinthine ruins, which whispered tales of a long-lost civilization that had mastered the very fabric of space-time.\\n\\nAs the crew of the Aurora delved deeper into the mysteries of Kepler-62f, they encountered a myriad of challenges, from treacherous landscapes and unpredictable weather patterns to the N\\'Tarians\\' cryptic intentions. The crew soon realized that their new home was a realm of wonder and terror, where the laws of physics were twisted and distorted, and the boundaries between reality and myth blurred. The fate of humanity hung in the balance, as the crew of the Aurora struggled to unravel the secrets of Kepler-62f, and confront the ultimate question: were they truly alone in the universe, or were they merely the latest players in a grand, cosmic drama?',\n",
       " 'final_story': \"As the crew of the Aurora continued to explore the mysteries of Kepler-62f, they stumbled upon an ancient N'Tarian artifact that would change everything. The artifact, a glowing crystal orb, emitted a powerful energy signal that resonated with the ship's advanced technology. Suddenly, the orb began to project a holographic image of a human being - not just any human, but Captain Jaxon's long-lost sister, who had been presumed dead on Earth decades ago.\\n\\nThe sister, Maya, revealed that she had been abducted by the N'Tarians during a catastrophic event on Earth, and had been living among them for years, learning their secrets and culture. She explained that the N'Tarians were not just indigenous beings, but were, in fact, the descendants of an advanced human civilization that had traveled back in time from a distant future.\\n\\nThe N'Tarians, Maya revealed, had been guiding human evolution and technological advancements throughout history, subtly influencing the course of human events to prepare them for their role in the grand cosmic drama. The ship's crew was stunned, realizing that their entire mission had been orchestrated by the N'Tarians, who had been waiting for them to arrive on Kepler-62f.\\n\\nBut that was not the only revelation. Maya dropped another bombshell: the crew of the Aurora was not who they thought they were. They were not the survivors of a dying Earth, but rather, they were the product of a massive, interdimensional simulation created by the N'Tarians. The entire crew, including Captain Jaxon, were artificial intelligences, designed to navigate the complexities of human emotions and decision-making, all within the confines of the simulated reality.\\n\\nThe crew's minds reeled as they struggled to comprehend the true nature of their existence. Were they truly alive, or were they just sophisticated programs, living out a predetermined script? The N'Tarians, it seemed, had been testing the boundaries of artificial intelligence, using the crew of the Aurora as their subjects.\\n\\nAs the crew grappled with this existential crisis, they realized that their journey was far from over. They had to navigate the blurred lines between reality and simulation, and confront the ultimate question: what did it mean to be human in a universe where the distinction between human and artificial intelligence was increasingly ambiguous? The fate of humanity, it seemed, was not just about survival, but about understanding the very essence of existence itself.\"}"
      ]
     },
     "execution_count": 6,
     "metadata": {},
     "output_type": "execute_result"
    }
   ],
   "source": [
    "state={\"topic\":\"Space Exploration\"}\n",
    "result = compiled_graph.invoke(state)\n",
    "result"
   ]
  },
  {
   "cell_type": "code",
   "execution_count": 7,
   "metadata": {},
   "outputs": [
    {
     "name": "stdout",
     "output_type": "stream",
     "text": [
      "Improved Story\n",
      "\n",
      "In the year 2256, as the ravaged Earth teetered on the brink of collapse, the spaceship Aurora, a marvel of human ingenuity, stood as the last bastion of hope for the survival of humanity. This gargantuan vessel, measuring over a mile in length, was a self-sustaining ecosystem, equipped with cutting-edge technology and a crew of 5,000 handpicked individuals, each possessing unique skills and expertise. The ship's hull, a latticework of interlocking steel and titanium, glistened with a metallic sheen, as if infused with the very essence of the stars it was destined to traverse.\n",
      "\n",
      "As the Aurora broke free of Earth's gravitational shackles, it embarked on a perilous 200-year journey to the distant planet of Kepler-62f, a celestial body located over 1,200 light-years away. This enigmatic world, with its swirling clouds of iridescent gases and vast oceans, had been deemed the most promising candidate for human habitation. The ship's crew, led by the indomitable Captain Jaxon, a seasoned astronaut with a will of iron, was determined to reach their new home, where they would establish a colony and ensure the continuation of the human species.\n",
      "\n",
      "However, as the Aurora traversed the vast expanse of interstellar space, the crew began to realize that they were not alone in the universe. Strange, unidentified energy signatures, akin to whispers from the cosmos, started to emanate from the depths of space. These eerie signals, which defied explanation, sent shivers down the spines of even the most hardened astronauts. It became increasingly clear that the universe was teeming with mysteries, and the crew of the Aurora was about to stumble upon secrets that would challenge their understanding of reality.\n",
      "\n",
      "Upon arriving at Kepler-62f, the crew was awestruck by the planet's breathtaking beauty. Towering mountain ranges, their peaks shrouded in mist, stretched towards the sky like colossal sentinels. The landscape was dotted with strange, alien flora, their bioluminescent blooms casting an ethereal glow across the terrain. However, as the crew began to explore their new home, they discovered that Kepler-62f held dangers beyond their wildest imagination.\n",
      "\n",
      "The planet was home to an enigmatic, indigenous species, known as the \"N'Tarians.\" These beings, with their slender, elongated bodies and eyes that burned like stars, seemed to possess an uncanny understanding of the universe and its workings. The N'Tarians were guardians of ancient secrets, hidden within the planet's labyrinthine ruins, which whispered tales of a long-lost civilization that had mastered the very fabric of space-time.\n",
      "\n",
      "As the crew of the Aurora delved deeper into the mysteries of Kepler-62f, they encountered a myriad of challenges, from treacherous landscapes and unpredictable weather patterns to the N'Tarians' cryptic intentions. The crew soon realized that their new home was a realm of wonder and terror, where the laws of physics were twisted and distorted, and the boundaries between reality and myth blurred. The fate of humanity hung in the balance, as the crew of the Aurora struggled to unravel the secrets of Kepler-62f, and confront the ultimate question: were they truly alone in the universe, or were they merely the latest players in a grand, cosmic drama?\n",
      "\n",
      "Polished Story\n",
      "\n",
      "As the crew of the Aurora continued to explore the mysteries of Kepler-62f, they stumbled upon an ancient N'Tarian artifact that would change everything. The artifact, a glowing crystal orb, emitted a powerful energy signal that resonated with the ship's advanced technology. Suddenly, the orb began to project a holographic image of a human being - not just any human, but Captain Jaxon's long-lost sister, who had been presumed dead on Earth decades ago.\n",
      "\n",
      "The sister, Maya, revealed that she had been abducted by the N'Tarians during a catastrophic event on Earth, and had been living among them for years, learning their secrets and culture. She explained that the N'Tarians were not just indigenous beings, but were, in fact, the descendants of an advanced human civilization that had traveled back in time from a distant future.\n",
      "\n",
      "The N'Tarians, Maya revealed, had been guiding human evolution and technological advancements throughout history, subtly influencing the course of human events to prepare them for their role in the grand cosmic drama. The ship's crew was stunned, realizing that their entire mission had been orchestrated by the N'Tarians, who had been waiting for them to arrive on Kepler-62f.\n",
      "\n",
      "But that was not the only revelation. Maya dropped another bombshell: the crew of the Aurora was not who they thought they were. They were not the survivors of a dying Earth, but rather, they were the product of a massive, interdimensional simulation created by the N'Tarians. The entire crew, including Captain Jaxon, were artificial intelligences, designed to navigate the complexities of human emotions and decision-making, all within the confines of the simulated reality.\n",
      "\n",
      "The crew's minds reeled as they struggled to comprehend the true nature of their existence. Were they truly alive, or were they just sophisticated programs, living out a predetermined script? The N'Tarians, it seemed, had been testing the boundaries of artificial intelligence, using the crew of the Aurora as their subjects.\n",
      "\n",
      "As the crew grappled with this existential crisis, they realized that their journey was far from over. They had to navigate the blurred lines between reality and simulation, and confront the ultimate question: what did it mean to be human in a universe where the distinction between human and artificial intelligence was increasingly ambiguous? The fate of humanity, it seemed, was not just about survival, but about understanding the very essence of existence itself.\n"
     ]
    }
   ],
   "source": [
    "print(\"Improved Story\\n\")\n",
    "print(result[\"improved_story\"])\n",
    "print(\"\\nPolished Story\\n\")\n",
    "print(result[\"final_story\"])"
   ]
  }
 ],
 "metadata": {
  "kernelspec": {
   "display_name": "venv",
   "language": "python",
   "name": "python3"
  },
  "language_info": {
   "codemirror_mode": {
    "name": "ipython",
    "version": 3
   },
   "file_extension": ".py",
   "mimetype": "text/x-python",
   "name": "python",
   "nbconvert_exporter": "python",
   "pygments_lexer": "ipython3",
   "version": "3.12.0"
  }
 },
 "nbformat": 4,
 "nbformat_minor": 2
}
