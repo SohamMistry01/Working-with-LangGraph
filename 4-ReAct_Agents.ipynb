{
 "cells": [
  {
   "cell_type": "markdown",
   "metadata": {},
   "source": [
    "#### Setting up LLM and all the tools"
   ]
  },
  {
   "cell_type": "code",
   "execution_count": 1,
   "metadata": {},
   "outputs": [],
   "source": [
    "import os\n",
    "from dotenv import load_dotenv\n",
    "load_dotenv()\n",
    "\n",
    "os.environ[\"GROQ_API_KEY\"] = os.getenv(\"GROQ_API_KEY\")\n",
    "os.environ[\"LANGCHAIN_API_KEY\"] = os.getenv(\"LANGCHAIN_API_KEY\")"
   ]
  },
  {
   "cell_type": "code",
   "execution_count": 2,
   "metadata": {},
   "outputs": [],
   "source": [
    "from langchain_groq import ChatGroq\n",
    "llm = ChatGroq(model=\"llama-3.3-70b-versatile\")"
   ]
  },
  {
   "cell_type": "code",
   "execution_count": 3,
   "metadata": {},
   "outputs": [],
   "source": [
    "from langchain_community.tools import ArxivQueryRun, WikipediaQueryRun\n",
    "from langchain_community.utilities import ArxivAPIWrapper, WikipediaAPIWrapper\n",
    "\n",
    "api_wrapper_arxiv = ArxivAPIWrapper(top_k_results=3, doc_content_chars_max=350)\n",
    "arxiv = ArxivQueryRun(api_wrapper=api_wrapper_arxiv)\n",
    "\n",
    "api_wrapper_wiki = WikipediaAPIWrapper(top_k_results=1, doc_content_chars_max=500)\n",
    "wiki = WikipediaQueryRun(api_wrapper=api_wrapper_wiki)"
   ]
  },
  {
   "cell_type": "code",
   "execution_count": 4,
   "metadata": {},
   "outputs": [
    {
     "name": "stderr",
     "output_type": "stream",
     "text": [
      "C:\\Users\\Soham\\AppData\\Local\\Temp\\ipykernel_10604\\2720876434.py:3: LangChainDeprecationWarning: The class `TavilySearchResults` was deprecated in LangChain 0.3.25 and will be removed in 1.0. An updated version of the class exists in the :class:`~langchain-tavily package and should be used instead. To use it run `pip install -U :class:`~langchain-tavily` and import as `from :class:`~langchain_tavily import TavilySearch``.\n",
      "  tavily = TavilySearchResults()\n"
     ]
    }
   ],
   "source": [
    "from langchain_community.tools.tavily_search import TavilySearchResults\n",
    "os.environ[\"TAVILY_API_KEY\"] = os.getenv(\"TAVILY_API_KEY\")\n",
    "tavily = TavilySearchResults()"
   ]
  },
  {
   "cell_type": "code",
   "execution_count": 5,
   "metadata": {},
   "outputs": [],
   "source": [
    "def multiply(a: int, b: int) -> int:\n",
    "    \"\"\"Multiply a and b.\n",
    "\n",
    "    Args:\n",
    "        a: first int\n",
    "        b: second int\n",
    "    \"\"\"\n",
    "    return a * b\n",
    "\n",
    "def add(a: int, b: int) -> int:\n",
    "    \"\"\"Adds a and b.\n",
    "\n",
    "    Args:\n",
    "        a: first int\n",
    "        b: second int\n",
    "    \"\"\"\n",
    "    return a + b\n",
    "\n",
    "def divide(a: int, b: int) -> float:\n",
    "    \"\"\"Divide a and b.\n",
    "\n",
    "    Args:\n",
    "        a: first int\n",
    "        b: second int\n",
    "    \"\"\"\n",
    "    return a / b"
   ]
  },
  {
   "cell_type": "code",
   "execution_count": 6,
   "metadata": {},
   "outputs": [],
   "source": [
    "tools = [add, multiply, divide, arxiv, wiki, tavily]"
   ]
  },
  {
   "cell_type": "code",
   "execution_count": 7,
   "metadata": {},
   "outputs": [],
   "source": [
    "from langchain_core.messages import HumanMessage\n",
    "\n",
    "llm_with_tools = llm.bind_tools(tools)"
   ]
  },
  {
   "cell_type": "code",
   "execution_count": 8,
   "metadata": {},
   "outputs": [
    {
     "data": {
      "text/plain": [
       "[{'name': 'multiply',\n",
       "  'args': {'a': 20, 'b': 5},\n",
       "  'id': 'f6myrpcr6',\n",
       "  'type': 'tool_call'}]"
      ]
     },
     "execution_count": 8,
     "metadata": {},
     "output_type": "execute_result"
    }
   ],
   "source": [
    "llm_with_tools.invoke([HumanMessage(\"Calculate the product of 20 and 5?\")]).tool_calls"
   ]
  },
  {
   "cell_type": "markdown",
   "metadata": {},
   "source": [
    "#### Creating the State Schema and a Tool Agent"
   ]
  },
  {
   "cell_type": "code",
   "execution_count": 9,
   "metadata": {},
   "outputs": [],
   "source": [
    "from typing_extensions import TypedDict\n",
    "from langchain_core.messages import AnyMessage\n",
    "from typing import Annotated\n",
    "from langgraph.graph.message import add_messages\n",
    "\n",
    "class State(TypedDict):\n",
    "    messages:Annotated[list[AnyMessage],add_messages]"
   ]
  },
  {
   "cell_type": "code",
   "execution_count": 10,
   "metadata": {},
   "outputs": [
    {
     "data": {
      "image/png": "[encoded data removed]",
      "text/plain": [
       "<IPython.core.display.Image object>"
      ]
     },
     "metadata": {},
     "output_type": "display_data"
    }
   ],
   "source": [
    "from IPython.display import Image, display\n",
    "from langgraph.graph import StateGraph, START, END\n",
    "from langgraph.prebuilt import ToolNode\n",
    "from langgraph.prebuilt import tools_condition\n",
    "\n",
    "def tool_calling_llm(state:State):\n",
    "    return {\"messages\":[llm_with_tools.invoke(state[\"messages\"])]}\n",
    "\n",
    "builder = StateGraph(State)\n",
    "builder.add_node(\"tool_calling_llm\", tool_calling_llm)\n",
    "builder.add_node(\"tools\", ToolNode(tools))\n",
    "\n",
    "builder.add_edge(START, \"tool_calling_llm\")\n",
    "builder.add_conditional_edges(\n",
    "    \"tool_calling_llm\",\n",
    "    # If the latest message (result) from assistant is a tool call -> tools_condition routes to tools\n",
    "    # If the latest message (result) from assistant is a not a tool call -> tools_condition routes to END\n",
    "    tools_condition,\n",
    ")\n",
    "builder.add_edge(\"tools\",\"tool_calling_llm\")\n",
    "\n",
    "graph = builder.compile()\n",
    "display(Image(graph.get_graph().draw_mermaid_png()))"
   ]
  },
  {
   "cell_type": "code",
   "execution_count": 11,
   "metadata": {},
   "outputs": [
    {
     "name": "stdout",
     "output_type": "stream",
     "text": [
      "================================\u001b[1m Human Message \u001b[0m=================================\n",
      "\n",
      "Provide me with latest Pokemn TCG news, then perform addition of largest two digit number with largest three digit number. Finally, divide that sum by the smallest prime number!\n",
      "==================================\u001b[1m Ai Message \u001b[0m==================================\n",
      "Tool Calls:\n",
      "  tavily_search_results_json (9mz7d3jr8)\n",
      " Call ID: 9mz7d3jr8\n",
      "  Args:\n",
      "    query: latest Pokemon TCG news\n",
      "  add (9ajdsg7qs)\n",
      " Call ID: 9ajdsg7qs\n",
      "  Args:\n",
      "    a: 99\n",
      "    b: 999\n",
      "  divide (apt96vyj3)\n",
      " Call ID: apt96vyj3\n",
      "  Args:\n",
      "    a: 1098\n",
      "    b: 2\n",
      "=================================\u001b[1m Tool Message \u001b[0m=================================\n",
      "Name: tavily_search_results_json\n",
      "\n",
      "[{\"title\": \"PokeGuardian | The Latest Pokémon TCG News and Updates Daily\", \"url\": \"https://www.pokeguardian.com/\", \"content\": \"## [Scarlet & Violet - Black Bolt and Scarlet & Violet - White Flare Officially Revealed as Split Expansion for Pokémon TCG International Release](/2490337_scarlet-violet-black-bolt-and-scarlet-violet-white-flare-officially-revealed-as-split-expansion-for-pokemon-tcg-international-release)\\n\\n6 May 2025\\n\\nNew set features all 156 Unova Pokémon, returning foil patterns from Black & White, and exclusive products with Zekrom, Reshiram, Victini, and more. [...] ## [Pokemon Card Game June 2025 Merchandise Revealed](/2535483_pokemon-card-game-june-2025-merchandise-revealed)\\n\\n30 May 2025\\n\\nThe Pokemon Card Game Scarlet & Violet Merchandise line-up for June 2025 has been revealed.\\n\\n## [Scarlet & Violet - Destined Rivals Full Digital Set List Revealed](/2534613_scarlet-violet-destined-rivals-full-digital-set-list-revealed)\\n\\n29 May 2025\\n\\nScarlet & Violet - Destined Rivals releases on May 30, 2025. [...] ## [Uniqlo UT Pokemon Card Game Branded Apparel Collaboration Coming](/2522000_uniqlo-ut-pokemon-card-game-branded-apparel-collaboration-coming)\\n\\n23 May 2025\\n\\nWear Pokemon TCG apparel!\\n\\n## [Pokemon Card Game May 2025 Merchandise Revealed](/2549336_pokemon-card-game-may-2025-merchandise-revealed)\\n\\n23 May 2025\\n\\nThe Pokemon Card Game Scarlet & Violet Merchandise line-up for May 2025 has been revealed.\", \"score\": 0.8315952}, {\"title\": \"PokéBeach.com: Pokémon TCG, Games, and Anime | PokéBeach ...\", \"url\": \"https://www.pokebeach.com/\", \"content\": \"The latest Pokemon TCG news, including Silver Tempest, VSTAR Universe, and Scarlet & Violet!\", \"score\": 0.81875163}, {\"title\": \"HUGE Pokémon TCG Reveal is Coming in Days! Mega ex Sets ...\", \"url\": \"https://www.youtube.com/watch?v=piQafJTsLoc\", \"content\": \"# HUGE Pokémon TCG Reveal is Coming in Days! Mega ex Sets WILL be Revealed! (Pokemon TCG News)\\n\\nPtcgradio\\n352 likes\\n12115 views\\n17 Jun 2025\\nWe have mega sets coming and they're going to be revealed this weekend! What do we know? Come see!\\n\\nUse my Whatnot Invite Code for £10 credit: whatnot.com/invite/thewossy\", \"score\": 0.77792513}, {\"title\": \"Pokémon Trading Card Game News - Pokemon TCG\", \"url\": \"https://tcg.pokemon.com/en-us/news/\", \"content\": \"Don't miss the latest Pokémon TCG expansion available now: Scarlet & Violet—Destined Rivals! Learn How to Build and Draft a Pokémon TCG Cube\", \"score\": 0.7777226}, {\"title\": \"It's a Cuteness Overload in Pokémon TCG Pocket's Upcoming ...\", \"url\": \"https://www.pokemon.com/us/pokemon-news/its-a-cuteness-overload-in-pokemon-tcg-pockets-upcoming-eevee-grove-expansion\", \"content\": \"Eevee excitement is growing with the upcoming release of Pokémon Trading Card Game Pocket's latest expansion, Eevee Grove, on June 25, 2025,\", \"score\": 0.76427686}]\n",
      "=================================\u001b[1m Tool Message \u001b[0m=================================\n",
      "Name: add\n",
      "\n",
      "1098\n",
      "=================================\u001b[1m Tool Message \u001b[0m=================================\n",
      "Name: divide\n",
      "\n",
      "549.0\n",
      "==================================\u001b[1m Ai Message \u001b[0m==================================\n",
      "\n",
      "The latest Pokémon TCG news includes the reveal of the Scarlet & Violet - Black Bolt and Scarlet & Violet - White Flare expansions, as well as the release of new merchandise and the announcement of an upcoming collaboration with Uniqlo UT. The sum of the largest two-digit number (99) and the largest three-digit number (999) is 1098. Dividing this sum by the smallest prime number (2) gives 549.0.\n"
     ]
    }
   ],
   "source": [
    "from pprint import pprint\n",
    "\n",
    "messages = graph.invoke({\"messages\": HumanMessage(content=f\"Provide me with latest Pokemn TCG news, then perform addition of largest two digit number with largest three digit number. Finally, divide that sum by the smallest prime number!\")})\n",
    "for m in messages[\"messages\"]:\n",
    "    m.pretty_print()"
   ]
  },
  {
   "cell_type": "code",
   "execution_count": 12,
   "metadata": {},
   "outputs": [
    {
     "name": "stdout",
     "output_type": "stream",
     "text": [
      "================================\u001b[1m Human Message \u001b[0m=================================\n",
      "\n",
      "What are transformers in Generative AI? Multiply 78 with 3 and then divide the result by 6.\n",
      "==================================\u001b[1m Ai Message \u001b[0m==================================\n",
      "Tool Calls:\n",
      "  multiply (6p0dd1893)\n",
      " Call ID: 6p0dd1893\n",
      "  Args:\n",
      "    a: 78\n",
      "    b: 3\n",
      "  divide (rzak65gn8)\n",
      " Call ID: rzak65gn8\n",
      "  Args:\n",
      "    a: 234\n",
      "    b: 6\n",
      "  wikipedia (xdaxgjgh5)\n",
      " Call ID: xdaxgjgh5\n",
      "  Args:\n",
      "    query: Transformers in Generative AI\n",
      "=================================\u001b[1m Tool Message \u001b[0m=================================\n",
      "Name: multiply\n",
      "\n",
      "234\n",
      "=================================\u001b[1m Tool Message \u001b[0m=================================\n",
      "Name: divide\n",
      "\n",
      "39.0\n",
      "=================================\u001b[1m Tool Message \u001b[0m=================================\n",
      "Name: wikipedia\n",
      "\n",
      "Page: Generative pre-trained transformer\n",
      "Summary: A generative pre-trained transformer (GPT) is a type of large language model (LLM) and a prominent framework for generative artificial intelligence. It is an artificial neural network that is used in natural language processing by machines. It is based on the transformer deep learning architecture, pre-trained on large data sets of unlabeled text, and able to generate novel human-like content. As of 2023, most LLMs had these characteristics and a\n",
      "==================================\u001b[1m Ai Message \u001b[0m==================================\n",
      "\n",
      "Transformers in Generative AI are a type of large language model (LLM) and a prominent framework for generative artificial intelligence. They are based on the transformer deep learning architecture, pre-trained on large data sets of unlabeled text, and able to generate novel human-like content. The result of multiplying 78 by 3 is 234, and then dividing the result by 6 gives 39.0.\n"
     ]
    }
   ],
   "source": [
    "messages = graph.invoke({\"messages\": HumanMessage(content=f\"What are transformers in Generative AI? Multiply 78 with 3 and then divide the result by 6.\")})\n",
    "for m in messages[\"messages\"]:\n",
    "    m.pretty_print()"
   ]
  },
  {
   "cell_type": "markdown",
   "metadata": {},
   "source": [
    "#### Using MemorySaver to build chatbot using conversation history"
   ]
  },
  {
   "cell_type": "code",
   "execution_count": 13,
   "metadata": {},
   "outputs": [
    {
     "data": {
      "image/png": "[encoded data removed]",
      "text/plain": [
       "<IPython.core.display.Image object>"
      ]
     },
     "metadata": {},
     "output_type": "display_data"
    }
   ],
   "source": [
    "from langgraph.checkpoint.memory import MemorySaver\n",
    "memory = MemorySaver()\n",
    "\n",
    "graph_memory = builder.compile(checkpointer=memory)\n",
    "display(Image(graph_memory.get_graph().draw_mermaid_png()))"
   ]
  },
  {
   "cell_type": "code",
   "execution_count": 14,
   "metadata": {},
   "outputs": [],
   "source": [
    "config = {\"configurable\":{\"thread_id\":1}}"
   ]
  },
  {
   "cell_type": "code",
   "execution_count": 15,
   "metadata": {},
   "outputs": [
    {
     "name": "stdout",
     "output_type": "stream",
     "text": [
      "================================\u001b[1m Human Message \u001b[0m=================================\n",
      "\n",
      "What is 12+13?\n",
      "==================================\u001b[1m Ai Message \u001b[0m==================================\n",
      "Tool Calls:\n",
      "  add (fg59m0qgd)\n",
      " Call ID: fg59m0qgd\n",
      "  Args:\n",
      "    a: 12\n",
      "    b: 13\n",
      "=================================\u001b[1m Tool Message \u001b[0m=================================\n",
      "Name: add\n",
      "\n",
      "25\n",
      "==================================\u001b[1m Ai Message \u001b[0m==================================\n",
      "\n",
      "The answer is 25.\n"
     ]
    }
   ],
   "source": [
    "messages = [HumanMessage(content=f\"What is 12+13?\")]\n",
    "msgs = graph_memory.invoke({\"messages\":messages},config=config)\n",
    "for m in msgs[\"messages\"]:\n",
    "    m.pretty_print()"
   ]
  },
  {
   "cell_type": "code",
   "execution_count": 16,
   "metadata": {},
   "outputs": [
    {
     "name": "stdout",
     "output_type": "stream",
     "text": [
      "================================\u001b[1m Human Message \u001b[0m=================================\n",
      "\n",
      "What is 12+13?\n",
      "==================================\u001b[1m Ai Message \u001b[0m==================================\n",
      "Tool Calls:\n",
      "  add (fg59m0qgd)\n",
      " Call ID: fg59m0qgd\n",
      "  Args:\n",
      "    a: 12\n",
      "    b: 13\n",
      "=================================\u001b[1m Tool Message \u001b[0m=================================\n",
      "Name: add\n",
      "\n",
      "25\n",
      "==================================\u001b[1m Ai Message \u001b[0m==================================\n",
      "\n",
      "The answer is 25.\n",
      "================================\u001b[1m Human Message \u001b[0m=================================\n",
      "\n",
      "Now multiply it by 4.\n",
      "==================================\u001b[1m Ai Message \u001b[0m==================================\n",
      "Tool Calls:\n",
      "  multiply (m1x688yeb)\n",
      " Call ID: m1x688yeb\n",
      "  Args:\n",
      "    a: 25\n",
      "    b: 4\n",
      "=================================\u001b[1m Tool Message \u001b[0m=================================\n",
      "Name: multiply\n",
      "\n",
      "100\n",
      "==================================\u001b[1m Ai Message \u001b[0m==================================\n",
      "\n",
      "The answer is 100.\n"
     ]
    }
   ],
   "source": [
    "messages = [HumanMessage(content=f\"Now multiply it by 4.\")]\n",
    "msgs = graph_memory.invoke({\"messages\":messages},config=config)\n",
    "for m in msgs[\"messages\"]:\n",
    "    m.pretty_print()"
   ]
  },
  {
   "cell_type": "code",
   "execution_count": 17,
   "metadata": {},
   "outputs": [
    {
     "name": "stdout",
     "output_type": "stream",
     "text": [
      "================================\u001b[1m Human Message \u001b[0m=================================\n",
      "\n",
      "What is 12+13?\n",
      "==================================\u001b[1m Ai Message \u001b[0m==================================\n",
      "Tool Calls:\n",
      "  add (fg59m0qgd)\n",
      " Call ID: fg59m0qgd\n",
      "  Args:\n",
      "    a: 12\n",
      "    b: 13\n",
      "=================================\u001b[1m Tool Message \u001b[0m=================================\n",
      "Name: add\n",
      "\n",
      "25\n",
      "==================================\u001b[1m Ai Message \u001b[0m==================================\n",
      "\n",
      "The answer is 25.\n",
      "================================\u001b[1m Human Message \u001b[0m=================================\n",
      "\n",
      "Now multiply it by 4.\n",
      "==================================\u001b[1m Ai Message \u001b[0m==================================\n",
      "Tool Calls:\n",
      "  multiply (m1x688yeb)\n",
      " Call ID: m1x688yeb\n",
      "  Args:\n",
      "    a: 25\n",
      "    b: 4\n",
      "=================================\u001b[1m Tool Message \u001b[0m=================================\n",
      "Name: multiply\n",
      "\n",
      "100\n",
      "==================================\u001b[1m Ai Message \u001b[0m==================================\n",
      "\n",
      "The answer is 100.\n",
      "================================\u001b[1m Human Message \u001b[0m=================================\n",
      "\n",
      "Finally divide it by 10.\n",
      "==================================\u001b[1m Ai Message \u001b[0m==================================\n",
      "Tool Calls:\n",
      "  divide (2hvdwtb0q)\n",
      " Call ID: 2hvdwtb0q\n",
      "  Args:\n",
      "    a: 100\n",
      "    b: 10\n",
      "=================================\u001b[1m Tool Message \u001b[0m=================================\n",
      "Name: divide\n",
      "\n",
      "10.0\n",
      "==================================\u001b[1m Ai Message \u001b[0m==================================\n",
      "\n",
      "The answer is 10.\n"
     ]
    }
   ],
   "source": [
    "messages = [HumanMessage(content=f\"Finally divide it by 10.\")]\n",
    "msgs = graph_memory.invoke({\"messages\":messages},config=config)\n",
    "for m in msgs[\"messages\"]:\n",
    "    m.pretty_print()"
   ]
  },
  {
   "cell_type": "code",
   "execution_count": 18,
   "metadata": {},
   "outputs": [
    {
     "name": "stdout",
     "output_type": "stream",
     "text": [
      "================================\u001b[1m Human Message \u001b[0m=================================\n",
      "\n",
      "What is 12+13?\n",
      "==================================\u001b[1m Ai Message \u001b[0m==================================\n",
      "Tool Calls:\n",
      "  add (fg59m0qgd)\n",
      " Call ID: fg59m0qgd\n",
      "  Args:\n",
      "    a: 12\n",
      "    b: 13\n",
      "=================================\u001b[1m Tool Message \u001b[0m=================================\n",
      "Name: add\n",
      "\n",
      "25\n",
      "==================================\u001b[1m Ai Message \u001b[0m==================================\n",
      "\n",
      "The answer is 25.\n",
      "================================\u001b[1m Human Message \u001b[0m=================================\n",
      "\n",
      "Now multiply it by 4.\n",
      "==================================\u001b[1m Ai Message \u001b[0m==================================\n",
      "Tool Calls:\n",
      "  multiply (m1x688yeb)\n",
      " Call ID: m1x688yeb\n",
      "  Args:\n",
      "    a: 25\n",
      "    b: 4\n",
      "=================================\u001b[1m Tool Message \u001b[0m=================================\n",
      "Name: multiply\n",
      "\n",
      "100\n",
      "==================================\u001b[1m Ai Message \u001b[0m==================================\n",
      "\n",
      "The answer is 100.\n",
      "================================\u001b[1m Human Message \u001b[0m=================================\n",
      "\n",
      "Finally divide it by 10.\n",
      "==================================\u001b[1m Ai Message \u001b[0m==================================\n",
      "Tool Calls:\n",
      "  divide (2hvdwtb0q)\n",
      " Call ID: 2hvdwtb0q\n",
      "  Args:\n",
      "    a: 100\n",
      "    b: 10\n",
      "=================================\u001b[1m Tool Message \u001b[0m=================================\n",
      "Name: divide\n",
      "\n",
      "10.0\n",
      "==================================\u001b[1m Ai Message \u001b[0m==================================\n",
      "\n",
      "The answer is 10.\n",
      "================================\u001b[1m Human Message \u001b[0m=================================\n",
      "\n",
      "The number that you get after dividing, show that many number of latest AI news results.\n",
      "==================================\u001b[1m Ai Message \u001b[0m==================================\n",
      "Tool Calls:\n",
      "  tavily_search_results_json (c8aktxyg3)\n",
      " Call ID: c8aktxyg3\n",
      "  Args:\n",
      "    query: latest AI news\n",
      "=================================\u001b[1m Tool Message \u001b[0m=================================\n",
      "Name: tavily_search_results_json\n",
      "\n",
      "[{\"title\": \"Artificial Intelligence - Latest AI News and Analysis - WSJ.com\", \"url\": \"https://www.wsj.com/tech/ai\", \"content\": \"The latest artificial intelligence news coverage focusing on the technology, tools and the companies building AI technology.\", \"score\": 0.7548612}, {\"title\": \"Latest AI Technology, Artificial Intelligence News and Updates - Mint\", \"url\": \"https://www.livemint.com/ai\", \"content\": \"![Advanced Micro Devices (AMD) has revealed its next major push into artificial intelligence hardware, unveiling a new AI server platform called Helios, designed to challenge Nvidia’s dominance in the sector.](https://www.livemint.com/lm-img/static/1yr/1x1_img.webp \\\"AMD’s Helios Server launch signals bold challenge to Nvidia’s AI supremacy, backed by OpenAI and Crusoe\\\") [...] ![OpenAI published its latest report on disrupting malicious uses of AI on Thursday. (REUTERS)](https://www.livemint.com/lm-img/static/1yr/1x1_img.webp \\\"OpenAI says significant number of recent ChatGPT misuses likely came from China\\\")\\n![wsj](https://www.livemint.com/lm-img/static/wsj.svg) [...] ![OpenAI has officially launched o3-pro, a new artificial intelligence model the company is hailing as its most advanced to date. (REUTERS)](https://www.livemint.com/lm-img/static/1yr/1x1_img.webp \\\"OpenAI rolls out o3-pro for ChatGPT Pro and Team users: What's new and how it compares to the older models\\\")\", \"score\": 0.73891455}, {\"title\": \"AI News & Artificial Intelligence - TechCrunch\", \"url\": \"https://techcrunch.com/category/artificial-intelligence/\", \"content\": \"![](https://techcrunch.com/wp-content/uploads/2024/09/tc-lockup.svg)\\n![](https://techcrunch.com/wp-content/uploads/2024/09/tc-logo-mobile.svg)\\n\\n### Topics\\n\\n[Latest](/latest/)\\n\\n[AI](/category/artificial-intelligence/)\\n\\n[Amazon](/tag/amazon/)\\n\\n[Apps](/category/apps/)\\n\\n[Biotech & Health](/category/biotech-health/)\\n\\n[Climate](/category/climate/)\\n\\n[Cloud Computing](/tag/cloud-computing/)\\n\\n[Commerce](/category/commerce/)\\n\\n[Crypto](/category/cryptocurrency/)\\n\\n[Enterprise](/category/enterprise/) [...] ### [Intel to lay off up to 20% of Intel Foundry workers](https://techcrunch.com/2025/06/17/intel-to-layoff-up-to-20-of-intel-foundry-workers/)\\n\\n![AI robot face and programming code on a black background.](https://techcrunch.com/wp-content/uploads/2025/02/GettyImages-1356382582.jpg?w=563)\\n\\n### [Anysphere launches a $200-a-month Cursor AI coding subscription](https://techcrunch.com/2025/06/17/anysphere-launches-a-200-a-month-cursor-ai-coding-subscription/) [...] ### [Pope Leo makes AI’s threat to humanity a signature issue](https://techcrunch.com/2025/06/18/pope-leo-makes-ais-threat-to-humanity-a-signature-issue/)\\n\\n![Cluely founder Roy Lee party invitation video](https://techcrunch.com/wp-content/uploads/2025/06/Cluely-party-video.png?w=583)\\n\\n### [Police shut down Cluely’s party, the ‘cheat at everything’ startup](https://techcrunch.com/2025/06/17/police-shut-down-cluelys-party-the-cheat-at-everything-startup/)\", \"score\": 0.71040785}, {\"title\": \"AI News | Latest AI News, Analysis & Events\", \"url\": \"https://www.artificialintelligence-news.com/\", \"content\": \"The OpenAI Files: Ex-staff claim profit greed betraying AI safety · Apple hints at AI integration in chip design process · AI adoption matures but deployment\", \"score\": 0.709684}, {\"title\": \"Artificial Intelligence | Latest News, Photos & Videos - WIRED\", \"url\": \"https://www.wired.com/tag/artificial-intelligence/\", \"content\": \"### Facing a Changing Industry, AI Activists Rethink Their Strategy\\n\\n![Demis Hassabis Embraces the Future of Work in the Age of AI](https://media.wired.com/photos/683e039d7fcbfb59910b6706/3:2/w_1280%2Cc_limit/DSC09515.jpg)\\n\\n### Demis Hassabis Embraces the Future of Work in the Age of AI\\n\\n### Deepfake Scams Are Distorting Reality Itself\\n\\n![The Rise of ‘Vibe Hacking’ Is the Next AI Nightmare](https://media.wired.com/photos/683dde00bb81c8212495c31b/3:2/w_1280%2Cc_limit/WIRED%2520STILL%252002.png) [...] ### AI Chatbots Are Making LA Protest Disinformation Worse\\n\\n![A Political Battle Is Brewing Over Data Centers](https://media.wired.com/photos/684036ef4c253f09088b983a/3:2/w_1280%2Cc_limit/GettyImages-2213382270.jpg)\\n\\n### A Political Battle Is Brewing Over Data Centers\\n\\n![Apple Is Pushing AI Into More of Its Products&-but Still Lacks a State-of-the-Art Model](https://media.wired.com/photos/684726c94c3cf40b5be20abf/3:2/w_1280%2Cc_limit/Apple-WWDC25-Apple-Intelligence-hero-250609.jpg) [...] ### The Rise of ‘Vibe Hacking’ Is the Next AI Nightmare\", \"score\": 0.6867278}]\n",
      "==================================\u001b[1m Ai Message \u001b[0m==================================\n",
      "\n",
      "Here are 10 latest AI news results:\n",
      "\n",
      "1. **Artificial Intelligence - Latest AI News and Analysis - WSJ.com**: The latest artificial intelligence news coverage focusing on the technology, tools and the companies building AI technology.\n",
      "2. **Latest AI Technology, Artificial Intelligence News and Updates - Mint**: AMD has revealed its next major push into artificial intelligence hardware, unveiling a new AI server platform called Helios, designed to challenge Nvidia’s dominance in the sector.\n",
      "3. **AI News & Artificial Intelligence - TechCrunch**: Intel to lay off up to 20% of Intel Foundry workers, Anysphere launches a $200-a-month Cursor AI coding subscription, and Pope Leo makes AI’s threat to humanity a signature issue.\n",
      "4. **AI News | Latest AI News, Analysis & Events**: The OpenAI Files: Ex-staff claim profit greed betraying AI safety, Apple hints at AI integration in chip design process, and AI adoption matures but deployment.\n",
      "5. **Artificial Intelligence | Latest News, Photos & Videos - WIRED**: Facing a Changing Industry, AI Activists Rethink Their Strategy, Demis Hassabis Embraces the Future of Work in the Age of AI, and Deepfake Scams Are Distorting Reality Itself.\n",
      "6. **AI Chatbots Are Making LA Protest Disinformation Worse**: A Political Battle Is Brewing Over Data Centers, Apple Is Pushing AI Into More of Its Products—but Still Lacks a State-of-the-Art Model, and The Rise of ‘Vibe Hacking’ Is the Next AI Nightmare.\n",
      "7. **Police shut down Cluely’s party, the ‘cheat at everything’ startup**: Cluely founder Roy Lee party invitation video, and Police shut down Cluely’s party, the ‘cheat at everything’ startup.\n",
      "8. **Anysphere launches a $200-a-month Cursor AI coding subscription**: Anysphere launches a $200-a-month Cursor AI coding subscription, and Intel to lay off up to 20% of Intel Foundry workers.\n",
      "9. **Pope Leo makes AI’s threat to humanity a signature issue**: Pope Leo makes AI’s threat to humanity a signature issue, and The OpenAI Files: Ex-staff claim profit greed betraying AI safety.\n",
      "10. **Apple hints at AI integration in chip design process**: Apple hints at AI integration in chip design process, and AI adoption matures but deployment.\n"
     ]
    }
   ],
   "source": [
    "messages = [HumanMessage(content=f\"The number that you get after dividing, show that many number of latest AI news results.\")]\n",
    "msgs = graph_memory.invoke({\"messages\":messages},config=config)\n",
    "for m in msgs[\"messages\"]:\n",
    "    m.pretty_print()"
   ]
  },
  {
   "cell_type": "code",
   "execution_count": null,
   "metadata": {},
   "outputs": [],
   "source": []
  }
 ],
 "metadata": {
  "kernelspec": {
   "display_name": "venv",
   "language": "python",
   "name": "python3"
  },
  "language_info": {
   "codemirror_mode": {
    "name": "ipython",
    "version": 3
   },
   "file_extension": ".py",
   "mimetype": "text/x-python",
   "name": "python",
   "nbconvert_exporter": "python",
   "pygments_lexer": "ipython3",
   "version": "3.12.0"
  }
 },
 "nbformat": 4,
 "nbformat_minor": 2
}
